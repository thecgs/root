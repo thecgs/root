{
 "cells": [
  {
   "cell_type": "code",
   "execution_count": 31,
   "metadata": {},
   "outputs": [
    {
     "name": "stdout",
     "output_type": "stream",
     "text": [
      "findished\n"
     ]
    }
   ],
   "source": [
    "\"\"\"\n",
    "2021/03/06\n",
    "author:guisen chen\n",
    "email:thecgs001@foxmail.com\n",
    "\"\"\"\n",
    "\n",
    "import argparse\n",
    "import pandas as pd\n",
    "\n",
    "parser = argparse.ArgumentParser(description='将blastp(fmtout 6)的结果与swissprot或nr数据库的注释连接',usage='python3 get_blast_annoation.py -d [database.xls] -b [blast.xls] -o [out.xls]',add_help=False,epilog='date:2021/03/06 author:guisen chen email:thecgs001@foxmail.com')\n",
    "required = parser.add_argument_group('required arguments')\n",
    "optional = parser.add_argument_group('optional arguments')\n",
    "required.add_argument('-d','--db',metavar='[database.xls]',help='database file',required=True)\n",
    "required.add_argument('-b','--blast',metavar='[blast.xls]',help='blast result file',required=True)\n",
    "required.add_argument('-o','--out',metavar='[out.xls]',help='out file',required=True)\n",
    "optional.add_argument('-h','--help',action='help',help='show this help message and exit')\n",
    "optional.add_argument('-v','--version',action='version',version='v1.00')\n",
    "args = parser.parse_args()\n",
    "\n",
    "df = pd.read_csv(args.blast,sep='\\t',names=['qseqid','sseqid','pident','length','mismatch','gapopen','qstart','qend','sstart','send','evalue','bitscore'])\n",
    "df0 = df.drop_duplicates('qseqid',keep='first')#union\n",
    "df1 = pd.read_csv(args.db,sep='\\t',names=['sseqid','swissprot_annoation'])\n",
    "df2 = df0.merge(df1, how='left',on='sseqid')\n",
    "df2[['qseqid','swissprot_annoation']].to_csv(args.out,sep='\\t',index=False,header=False)\n",
    "print('findished')"
   ]
  }
 ],
 "metadata": {
  "kernelspec": {
   "display_name": "Python 3",
   "language": "python",
   "name": "python3"
  },
  "language_info": {
   "codemirror_mode": {
    "name": "ipython",
    "version": 3
   },
   "file_extension": ".py",
   "mimetype": "text/x-python",
   "name": "python",
   "nbconvert_exporter": "python",
   "pygments_lexer": "ipython3",
   "version": "3.8.3"
  }
 },
 "nbformat": 4,
 "nbformat_minor": 4
}
