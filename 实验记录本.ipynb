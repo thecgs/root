{
 "cells": [
  {
   "cell_type": "code",
   "execution_count": null,
   "metadata": {},
   "outputs": [],
   "source": [
    "ls -lh *_1.fq.gz | cut  -d \" \" -f10 > read_name_1.txt\n",
    "ls -lh *_2.fq.gz | cut  -d \" \" -f10 > read_name_2.txt\n",
    "grep \"map04020\" shibanyu.Gmo.expan.gene.difkegg.filt.xls | awk -F \"\\t\" '{print$10}'|sed \"s/ /\\n/g\"|for i in $(cat -);do grep $i shibanyu.Gmo.expan.gene.anno.xls;done > result.xls"
   ]
  },
  {
   "cell_type": "code",
   "execution_count": 2,
   "metadata": {},
   "outputs": [
    {
     "ename": "SyntaxError",
     "evalue": "invalid syntax (<ipython-input-2-17a39d0fe7b9>, line 2)",
     "output_type": "error",
     "traceback": [
      "\u001b[0;36m  File \u001b[0;32m\"<ipython-input-2-17a39d0fe7b9>\"\u001b[0;36m, line \u001b[0;32m2\u001b[0m\n\u001b[0;31m    hisat2-build -p 22 ~/genome-Ple/genome.fa Ple-genome\u001b[0m\n\u001b[0m                    ^\u001b[0m\n\u001b[0;31mSyntaxError\u001b[0m\u001b[0;31m:\u001b[0m invalid syntax\n"
     ]
    }
   ],
   "source": [
    "#mapping\n",
    "hisat2-build -p 22 ~/genome-Ple/genome.fa Ple-genome\n",
    "hisat2 -t -p 20 -x ~/thesis/02mapping/index__hisat2/Ple-genome --dta -1 ~/thesis/00all_read/trimmomatic/C_PL_L1b_1P.fq.gz -2 ~/thesis/00all_read/trimmomatic/C_PL_L1b_2P.fq.gz -S C_PL_L1b.sam\n",
    "samtools sort C_PL_L1a.sam  -o C_PL_L1a.bam\n",
    "\n",
    "#transcription\n",
    "stringtie C_PL_L1a.bam -p 20 -o C_PL_L1a.gtf\n",
    "for i in $(ls ./samfile/|sed \"s/.sam//g\");do echo \"nohup samtools sort ./samfile/$i.sam -o $i.bam &\" | bash ;done\n",
    "ls ./*.gtf|sed \"s/ /\\n/\" > gtffile.list\n",
    "stringtie --merge -p22 -o merge.gtf gtffile.list\n",
    "gtf_genome_to_cdna_fasta.pl merge.gtf ~/genome-Ple/genome.fa > merge.fasta\n",
    "gtf_to_alignment_gff3.pl merge.gtf > merge.gff3\n",
    "TransDecoder.LongOrfs -t merge.fasta \n",
    "TransDecoder.Predict -t merge.fasta\n",
    "cdna_alignment_orf_to_genome_orf.pl merge.fasta.transdecoder.gff3  merge.gff3 merge.fasta > transcripts.gff3\n",
    "\n",
    "#de nove\n",
    "augustus --species=help\n",
    "augustus --species=zebrafish --gff3=on --start=off --stop=off --stopCodonExcludedFromCDS=false ~/genome-Ple/genome.fa--outfile=augustus.gff3\n",
    "\n",
    "#homology\n",
    "tblastn -query refprots.fa -db target_genome.fa -outfmt 6  -num_threads 22 -max_target_seqs 10 -evalue 1e-5 > tblastn_output.tab\n",
    "\n",
    "#EVidenceModeler\n",
    "\n",
    "~/biosoftware/miniconda/opt/evidencemodeler-1.1.1/EvmUtils/gff3_gene_prediction_file_validator.pl gene.gff #验证gff可用\n",
    "nohup ~/biosoftware/miniconda/opt/evidencemodeler-1.1.1/EvmUtils/partition_EVM_inputs.pl --genome genome.fasta --gene_predictions gene.gff --segmentSize 100000 --overlapSize 10000 --partition_listing partitions_list.out > partition.log 2>&1 &\n",
    "~/biosoftware/miniconda/opt/evidencemodeler-1.1.1/EvmUtils/write_EVM_commands.pl --genome genome.fasta --weights /home/guisen/weights.txt --gene_predictions gene.gff --output_file_name evm.out  --partitions partitions_list.out >  commands.list\n",
    "nohup ~/biosoftware/miniconda/opt/evidencemodeler-1.1.1/EvmUtils/execute_EVM_commands.pl commands.list >> ./execule.log 2>&1 &\n",
    "~/biosoftware/miniconda/opt/evidencemodeler-1.1.1/EvmUtils/recombine_EVM_partial_outputs.pl  --partitions partitions_list.out --output_file_name evm.out\n",
    "nohup ~/biosoftware/miniconda/opt/evidencemodeler-1.1.1/EvmUtils/convert_EVM_outputs_to_GFF3.pl --partitions partitions_list.out --output evm.out --genome ~/genome-Ple/genome.fa &\n",
    "find . -regex \".*evm.out.gff3\" -exec cat {} \\; > EVM.all.gff3\n",
    "\n",
    "gffread EVM.all.gff -g input/genome.fa -y tr_cds.fa\n",
    "bioawk -c fastx '$seq < 50 {print $comment}' tr_cds.fa | cut -d '=' -f 2 > short_aa_gene_list.txt\n",
    "grep -v -w -f short_aa_gene_list.txt EvM.all.gff > filter.gff\n",
    "\n",
    "\"\"\"\n",
    "de nove : ABINITIO_PREDICTION      AUGUSTUS  3\n",
    "homology : OTHER_PREDICTION      genBlastG       7\n",
    "transcription : OTHER_PREDICTION        transdecoder    10\n",
    "\"\"\"\n",
    "\n",
    "nohup /home/guisen/biosoftware/miniconda/share/transposonPSI/transposonPSI.pl cds.fa  nuc > denove.log 2>&1 &"
   ]
  },
  {
   "cell_type": "code",
   "execution_count": null,
   "metadata": {},
   "outputs": [],
   "source": [
    "conda activate guisen\n",
    "export PERL5LIB=/public/home/xuyue/anaconda3/envs/guisen/bin/perl5.26.2usr/lib/ >> ~/.bashrc\n",
    "\n",
    "bsub -n 5 -o partition.log ~/anaconda3/envs/guisen/opt/evidencemodeler-1.1.1/EvmUtils/partition_EVM_inputs.pl --genome ~/guisen/genome_file/Ple-genome.fa --gene_predictions all.gff --segmentSize 100000 --overlapSize 10000 --partition_listing partitions_list.out\n",
    "bsub -n 5 -o commands.list  ~/anaconda3/envs/guisen/opt/evidencemodeler-1.1.1/EvmUtils/write_EVM_commands.pl --genome ../genome_file/Ple-genome.fa  --weights /public/home/xuyue/guisen/evidencemodeler/weights.txt --gene_predictions all.gff --output_file_name evm.out  --partitions partitions_list.out\n",
    "bsub -n 5 -o execule.log  ~/anaconda3/envs/guisen/opt/evidencemodeler-1.1.1/EvmUtils/execute_EVM_commands.pl commands.list\n",
    "bsub -n 5 -o recombine.log  ~/anaconda3/envs/guisen/opt/evidencemodeler-1.1.1/EvmUtils/recombine_EVM_partial_outputs.pl  --partitions partitions_list.out --output_file_name evm.out\n",
    "bsub -n 5 -o convert.log  ~/anaconda3/envs/guisen/opt/evidencemodeler-1.1.1/EvmUtils/convert_EVM_outputs_to_GFF3.pl --partitions partitions_list.out --output evm.out --genome ../genome_file/Ple-genome.fa\n",
    "find . -regex \".*evm.out.gff3\" -exec cat {} \\; > EVM.all.gff3\n",
    "bioawk -c fastx 'length($seq) < 300 {print $name}' cds.fa > short_aa_gene_list.txt\n",
    "grep -v -w -f short_aa_gene_list.txt EvM.all.gff > filter.gff\n",
    "bsub -n 5 -o run.log /public/home/xuyue/anaconda3/share/transposonPSI/transposonPSI.pl cds.fa nuc\n",
    "conda install -c bioconda -c conda-forge busco=5.0.0\n",
    "busco -i ~/pep.fa -o busco -l actinopterygii_odb10  -m prot -c 20\n",
    "generate_plot.py -wd ./\n",
    "\n"
   ]
  }
 ],
 "metadata": {
  "kernelspec": {
   "display_name": "Python 3",
   "language": "python",
   "name": "python3"
  },
  "language_info": {
   "codemirror_mode": {
    "name": "ipython",
    "version": 3
   },
   "file_extension": ".py",
   "mimetype": "text/x-python",
   "name": "python",
   "nbconvert_exporter": "python",
   "pygments_lexer": "ipython3",
   "version": "3.8.3"
  }
 },
 "nbformat": 4,
 "nbformat_minor": 4
}
