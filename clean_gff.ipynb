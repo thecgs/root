{
 "cells": [
  {
   "cell_type": "code",
   "execution_count": 3,
   "metadata": {
    "scrolled": true
   },
   "outputs": [
    {
     "ename": "IndexError",
     "evalue": "list index out of range",
     "output_type": "error",
     "traceback": [
      "\u001b[0;31m---------------------------------------------------------------------------\u001b[0m",
      "\u001b[0;31mIndexError\u001b[0m                                Traceback (most recent call last)",
      "\u001b[0;32m<ipython-input-3-e5a3d2e1b35a>\u001b[0m in \u001b[0;36m<module>\u001b[0;34m\u001b[0m\n\u001b[1;32m     78\u001b[0m     \u001b[0;31m#print(list)\u001b[0m\u001b[0;34m\u001b[0m\u001b[0;34m\u001b[0m\u001b[0;34m\u001b[0m\u001b[0m\n\u001b[1;32m     79\u001b[0m \u001b[0;34m\u001b[0m\u001b[0m\n\u001b[0;32m---> 80\u001b[0;31m \u001b[0mclean_gff\u001b[0m\u001b[0;34m(\u001b[0m\u001b[0;34m'/home/guisen/EVM.all.gff3'\u001b[0m\u001b[0;34m)\u001b[0m\u001b[0;34m\u001b[0m\u001b[0;34m\u001b[0m\u001b[0m\n\u001b[0m",
      "\u001b[0;32m<ipython-input-3-e5a3d2e1b35a>\u001b[0m in \u001b[0;36mclean_gff\u001b[0;34m(gff_file)\u001b[0m\n\u001b[1;32m     19\u001b[0m         \u001b[0mline_list\u001b[0m \u001b[0;34m=\u001b[0m \u001b[0mline\u001b[0m\u001b[0;34m.\u001b[0m\u001b[0mstrip\u001b[0m\u001b[0;34m(\u001b[0m\u001b[0;34m)\u001b[0m\u001b[0;34m.\u001b[0m\u001b[0msplit\u001b[0m\u001b[0;34m(\u001b[0m\u001b[0;34m)\u001b[0m\u001b[0;34m\u001b[0m\u001b[0;34m\u001b[0m\u001b[0m\n\u001b[1;32m     20\u001b[0m         \u001b[0mlines_list\u001b[0m\u001b[0;34m.\u001b[0m\u001b[0mappend\u001b[0m\u001b[0;34m(\u001b[0m\u001b[0mline_list\u001b[0m\u001b[0;34m)\u001b[0m\u001b[0;34m\u001b[0m\u001b[0;34m\u001b[0m\u001b[0m\n\u001b[0;32m---> 21\u001b[0;31m         \u001b[0mid\u001b[0m \u001b[0;34m=\u001b[0m \u001b[0mline_list\u001b[0m\u001b[0;34m[\u001b[0m\u001b[0;36m8\u001b[0m\u001b[0;34m]\u001b[0m\u001b[0;34m.\u001b[0m\u001b[0mstrip\u001b[0m\u001b[0;34m(\u001b[0m\u001b[0;34m)\u001b[0m\u001b[0;34m.\u001b[0m\u001b[0msplit\u001b[0m\u001b[0;34m(\u001b[0m\u001b[0;34m';'\u001b[0m\u001b[0;34m)\u001b[0m\u001b[0;34m[\u001b[0m\u001b[0;36m0\u001b[0m\u001b[0;34m]\u001b[0m\u001b[0;34m[\u001b[0m\u001b[0;36m3\u001b[0m\u001b[0;34m:\u001b[0m\u001b[0;34m]\u001b[0m\u001b[0;34m\u001b[0m\u001b[0;34m\u001b[0m\u001b[0m\n\u001b[0m\u001b[1;32m     22\u001b[0m         \u001b[0;32mif\u001b[0m \u001b[0mline_list\u001b[0m\u001b[0;34m[\u001b[0m\u001b[0;36m2\u001b[0m\u001b[0;34m]\u001b[0m \u001b[0;34m==\u001b[0m \u001b[0;34m'mRNA'\u001b[0m\u001b[0;34m:\u001b[0m\u001b[0;34m\u001b[0m\u001b[0;34m\u001b[0m\u001b[0m\n\u001b[1;32m     23\u001b[0m             \u001b[0mids_list\u001b[0m\u001b[0;34m.\u001b[0m\u001b[0mappend\u001b[0m\u001b[0;34m(\u001b[0m\u001b[0mid\u001b[0m\u001b[0;34m)\u001b[0m\u001b[0;34m\u001b[0m\u001b[0;34m\u001b[0m\u001b[0m\n",
      "\u001b[0;31mIndexError\u001b[0m: list index out of range"
     ]
    }
   ],
   "source": [
    "#!/usr/bin/env python3\n",
    "# coding: utf-8\n",
    "\n",
    "\"\"\"\n",
    "2020/08/26\n",
    "author:guisen chen\n",
    "email:thecgs001@foxmail.com\n",
    "description: By genblastG software, homologous gene of target \n",
    "             species was predicted based on homologous protein \n",
    "             sequences, and GFF files was generated.\n",
    "usage:./clean_gff.py file.gff\n",
    "\"\"\"\n",
    "def clean_gff(gff_file):\n",
    "    gff_file = open(gff_file,'r')\n",
    "    \n",
    "    lines_list = []\n",
    "    ids_list = []\n",
    "    for line in gff_file:\n",
    "        line_list = line.strip().split()\n",
    "        lines_list.append(line_list)\n",
    "        id = line_list[8].strip().split(';')[0][3:]\n",
    "        if line_list[2] == 'mRNA':\n",
    "            ids_list.append(id)\n",
    "    ids_list.reverse()\n",
    "    #print(lines_list)        \n",
    "    #print(ids_list)\n",
    "    \n",
    "    clusters_list = []\n",
    "    while len(ids_list) > 0:\n",
    "        id = ids_list.pop()\n",
    "        cluster_list=[]\n",
    "        for line_list in lines_list:\n",
    "            if line_list[8].find(id) > 0:\n",
    "                cluster_list.append(line_list)\n",
    "        clusters_list.append(cluster_list)\n",
    "    #print(clusters_list)\n",
    "    \n",
    "    gene = {}\n",
    "    for cluster_list in clusters_list:\n",
    "        id = cluster_list[0][8].strip().split(';')[0][3:].split('|')[1]\n",
    "        for line_list in cluster_list:\n",
    "            if line_list[2] == 'mRNA':\n",
    "                mRNA_length = int(line_list[4]) - int(line_list[3]) + 1\n",
    "                chr = line_list[0]\n",
    "                star = line_list[3]\n",
    "                end = line_list[4]\n",
    "                sorce = line_list[5]\n",
    "                direction = line_list[6]\n",
    "                gene[id] = [chr, star, end, mRNA_length, direction,sorce]\n",
    "    #print(gene)\n",
    "\n",
    "    transcript_lengths = {}\n",
    "    while len(clusters_list) > 0:\n",
    "        transcript_length = []\n",
    "        for line_list in clusters_list.pop()[1:]:\n",
    "            id = line_list[8].strip().split(';')[0][3:].split('|')[1].split('.exon')[0]\n",
    "            CDS_length = (int(line_list[4]) - int(line_list[3]) + 1)\n",
    "            transcript_length.append(CDS_length)\n",
    "        transcript_lengths[id] = sum(transcript_length)\n",
    "        \n",
    "    #print(transcript_lengths)\n",
    "    \n",
    "    for id, transcript_length in transcript_lengths.items():\n",
    "        if id in gene.keys():\n",
    "            gene[id].append(transcript_length)\n",
    "    #print(gene)\n",
    "    \n",
    "    for i,x in gene.items():\n",
    "        print(i,x)\n",
    "    #list = []\n",
    "    #gene_cp = gene \n",
    "   # for gene_id_cp, description_cp in gene_cp.items():\n",
    "     #   for gene_id, description in gene.items():\n",
    "      #      if gene_id_cp != gene_id:\n",
    "        #        if description_cp[0:4] == description[0:4]:\n",
    "         #           print(set((gene_id,gene_id_cp))\n",
    "                    #list.append(gene_id)\n",
    "    #print(list)\n",
    "\n",
    "clean_gff('/home/guisen/EVM.all.gff3')\n"
   ]
  },
  {
   "cell_type": "code",
   "execution_count": null,
   "metadata": {},
   "outputs": [],
   "source": [
    "('NP_003254-R1-1-A1', ['Chr08', '22008358', '22010769', 2412, '-', '121.593', 2316])\n",
    "('NP_003254.1-R1-1-A1', ['Chr08', '22008358', '22010769', 2412, '-', '121.593', 2316])\n",
    "('NP_003254.3-R1-1-A1', ['Chr08', '22008358', '22010769', 2412, '-', '80.2859', 2358])\n",
    "('NP_003254.2-R1-1-A1', ['Chr08', '22008358', '22011012', 2655, '-', '108.826', 1818])"
   ]
  }
 ],
 "metadata": {
  "kernelspec": {
   "display_name": "Python 3",
   "language": "python",
   "name": "python3"
  },
  "language_info": {
   "codemirror_mode": {
    "name": "ipython",
    "version": 3
   },
   "file_extension": ".py",
   "mimetype": "text/x-python",
   "name": "python",
   "nbconvert_exporter": "python",
   "pygments_lexer": "ipython3",
   "version": "3.6.8"
  }
 },
 "nbformat": 4,
 "nbformat_minor": 4
}
