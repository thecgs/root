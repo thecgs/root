{
 "cells": [
  {
   "cell_type": "code",
   "execution_count": 20,
   "metadata": {},
   "outputs": [
    {
     "name": "stdout",
     "output_type": "stream",
     "text": [
      "defaultdict(<class 'list'>, {})\n",
      "defaultdict(<class 'list'>, {'gene-slc25a48': ['rna-XM_033617728.1'], 'gene-glra1': ['rna-XM_033620666.1', 'rna-XM_033620672.1', 'rna-XM_033620678.1', 'rna-XM_033620686.1'], 'gene-g3bp1': ['rna-XM_033629617.1'], 'gene-sparc': ['rna-XM_033625137.1'], 'gene-atox1': ['rna-XM_033620350.1'], 'gene-slc36a1': ['rna-XM_033621851.1', 'rna-XM_033621868.1', 'rna-XM_033621859.1'], 'gene-mtnr1al': ['rna-XM_033617664.1'], 'gene-fat2': ['rna-XM_033619531.1', 'rna-XM_033619522.1'], 'gene-lman2': ['rna-XM_033632889.1', 'rna-XM_033632881.1'], 'gene-LOC117258837': ['rna-XM_033630027.1', 'rna-XM_033630017.1'], 'gene-selenot2': ['rna-XM_033630040.1'], 'gene-LOC117258709': ['rna-XM_033629813.1'], 'gene-rnf4': ['rna-XM_033632698.1'], 'gene-sqstm1': ['rna-XM_033629700.1', 'rna-XM_033629709.1', 'rna-XM_033629718.1'], 'gene-mrnip': ['rna-XM_033629740.1', 'rna-XM_033629731.1'], 'gene-LOC117258627': ['rna-XM_033629678.1', 'rna-XM_033629687.1']})\n"
     ]
    }
   ],
   "source": [
    "#!/usr/bin/env python3\n",
    "\n",
    "# v0.1:fixing the problem that the feature of exon/mRNA is before gene\n",
    "# v0.2: Use CDS to decide which transcript is primary\n",
    "# v0.3: Fix the bug that if the CDS_parent include '\\r' , the lst_len will be 0\n",
    "\n",
    "# GFF must have CDS feature\n",
    "# GFF must have ID and Parent in column 9\n",
    "\n",
    "import re\n",
    "import fileinput\n",
    "from collections import defaultdict\n",
    "\n",
    "gene_dict = defaultdict(list)\n",
    "tx_pos_dict = defaultdict(list)\n",
    "CDS_dict = defaultdict(list)\n",
    "\n",
    "for line in fileinput.input('/home/guisen/GCF_005281545.1_ASM528154v1_genomic.gff'):\n",
    "    if line.startswith(\"#\"):\n",
    "        continue\n",
    "    content = line.split(\"\\t\")\n",
    "    if len(content) <= 8:\n",
    "        continue\n",
    "    #print(content)\n",
    "    '''\n",
    "    if content[2] == 'gene':\n",
    "        gene_id = re.search(r'ID=(.*?)[;\\n]', content[8]).group(1)\n",
    "        #print(gene_id)\n",
    "        if gene_id not in gene_dict:\n",
    "            gene_dict[gene_id] = []\n",
    "    '''\n",
    "    if content[2] == \"transcript\" or content[2] == \"mRNA\":\n",
    "\n",
    "        # use regual expression to extract the gene ID\n",
    "        # match the pattern ID=xxxxx; or ID=xxxxx\n",
    "        \n",
    "        tx_id = re.search(r'ID=(.*?)[;\\n]',content[8]).group(1)\n",
    "        tx_parent = re.search(r'Parent=(.*?)[;\\n]',content[8]).group(1)\n",
    "        tx_parent = tx_parent.strip() # remove the 'r' and '\\n'\n",
    "\n",
    "        # if the parent of transcript is not in the gene_dict, create it rather than append\n",
    "        if tx_parent in gene_dict:\n",
    "            gene_dict[tx_parent].append(tx_id)\n",
    "        else:\n",
    "            gene_dict[tx_parent] = [tx_id]\n",
    "        tx_pos_dict[tx_id] = [content[0],content[3], content[4], content[6] ]\n",
    "    # GFF must have CDS feature\n",
    "    if content[2] == 'CDS':\n",
    "        width = int(content[4]) - int(content[3])\n",
    "        CDS_parent = re.search(r'Parent=(.*?)[;\\n]',content[8]).group(1)\n",
    "        CDS_parent = CDS_parent.strip() # strip the '\\r' and '\\n'\n",
    "        CDS_dict[CDS_parent].append(width)\n",
    "\n",
    "gff_file = open('Eak.txt','a')\n",
    "for gene, txs in gene_dict.items():\n",
    "    tmp = 0\n",
    "    for tx in txs:\n",
    "        tx_len = sum(CDS_dict[tx])\n",
    "        if tx_len > tmp:\n",
    "            lst_tx = tx\n",
    "            tmp = tx_len\n",
    "    tx_chrom = tx_pos_dict[lst_tx][0]\n",
    "    tx_start = tx_pos_dict[lst_tx][1]\n",
    "    tx_end   = tx_pos_dict[lst_tx][2]\n",
    "    tx_strand = tx_pos_dict[lst_tx][3]\n",
    "   # print(\"{gene}\\t{tx}\\t{chrom}\\t{start}\\t{end}\\t{strand}\".format(gene=gene,tx=lst_tx,chrom=tx_chrom,start=tx_start,end=tx_end, strand=tx_strand))\n",
    "    #gff_file.write(f\"{gene}\\t{lst_tx}\\t{tx_chrom}\\t{tx_start}\\t{tx_end}\\t{tx_strand}\\n\")\n",
    "gff_file.close()"
   ]
  },
  {
   "cell_type": "code",
   "execution_count": null,
   "metadata": {},
   "outputs": [],
   "source": []
  }
 ],
 "metadata": {
  "kernelspec": {
   "display_name": "Python 3",
   "language": "python",
   "name": "python3"
  },
  "language_info": {
   "codemirror_mode": {
    "name": "ipython",
    "version": 3
   },
   "file_extension": ".py",
   "mimetype": "text/x-python",
   "name": "python",
   "nbconvert_exporter": "python",
   "pygments_lexer": "ipython3",
   "version": "3.8.3"
  }
 },
 "nbformat": 4,
 "nbformat_minor": 4
}
