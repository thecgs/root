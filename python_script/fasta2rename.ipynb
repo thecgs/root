{
 "cells": [
  {
   "cell_type": "code",
   "execution_count": 36,
   "metadata": {},
   "outputs": [
    {
     "name": "stdout",
     "output_type": "stream",
     "text": [
      "finished\n"
     ]
    }
   ],
   "source": [
    "#!/usr/bin/env python3\n",
    "# coding: utf-8\n",
    "\n",
    "\"\"\"\n",
    "2021/01/25\n",
    "author:guisen chen\n",
    "email:thecgs001@foxmail.com  \n",
    "\"\"\"\n",
    "\n",
    "import sys\n",
    "from Bio import SeqIO\n",
    "\n",
    "ID_list = []\n",
    "seq_list = []\n",
    "handle = open(sys.argv[1],'r')\n",
    "f = open('./rename.fa','w')\n",
    "\n",
    "for seq_record in SeqIO.parse(handle,'fasta'):\n",
    "    ID_list.append(seq_record.id)\n",
    "    seq_list.append(seq_record.seq)\n",
    "\n",
    "for ID,seq in zip(ID_list,seq_list):\n",
    "    f.write(f'>gene{ID_list.index(ID)}\\n{seq}\\n')\n",
    "    #print(f\">gene{ID_list.index(ID)}\\n{seq}\")\n",
    "print('finished')\n"
   ]
  },
  {
   "cell_type": "code",
   "execution_count": null,
   "metadata": {},
   "outputs": [],
   "source": []
  }
 ],
 "metadata": {
  "kernelspec": {
   "display_name": "Python 3",
   "language": "python",
   "name": "python3"
  },
  "language_info": {
   "codemirror_mode": {
    "name": "ipython",
    "version": 3
   },
   "file_extension": ".py",
   "mimetype": "text/x-python",
   "name": "python",
   "nbconvert_exporter": "python",
   "pygments_lexer": "ipython3",
   "version": "3.8.3"
  }
 },
 "nbformat": 4,
 "nbformat_minor": 4
}
