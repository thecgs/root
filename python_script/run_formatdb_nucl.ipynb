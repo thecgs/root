{
 "cells": [
  {
   "cell_type": "code",
   "execution_count": 7,
   "metadata": {},
   "outputs": [
    {
     "name": "stdout",
     "output_type": "stream",
     "text": [
      " 2020/08/26 \n",
      " author:guisen chen \n",
      " email:thecgs001@foxmail.com \n",
      " description:creating a nucleic acid library \n",
      " usage:./run_formatdb.py genome.fa\n"
     ]
    }
   ],
   "source": [
    "#!/usr/bin/env python3\n",
    "#coding: utf-8\n",
    "\n",
    "\"\"\"\n",
    "2020/08/26\n",
    "author:guisen chen\n",
    "email:thecgs001@foxmail.com\n",
    "description:creating a nucleic acid library\n",
    "usage:./run_formatdb_nucl.py genome.fa\n",
    "\"\"\"\n",
    "\n",
    "import os\n",
    "import sys\n",
    "import subprocess\n",
    "\n",
    "def run_formatdb_nucl(genome_file):\n",
    "    \"\"\"\n",
    "    运行blast程序的formatdb，创建一个核酸库\n",
    "    \"\"\"\n",
    "    cline = subprocess.Popen(f'formatdb -i {genome_file} -p F -o T',env = None,shell=True,cwd=f'{os.path.dirname(os.path.abspath(genome_file))}')\n",
    "    cline.wait()\n",
    "    handle = open(f'{os.path.dirname(os.path.abspath(genome_file))}/formatdb.log','r')\n",
    "    formatdb_log = handle.read()\n",
    "    handle.close()\n",
    "    os.remove(f'{os.path.dirname(os.path.abspath(genome_file))}/formatdb.log')\n",
    "    return print(formatdb_log)\n",
    "\n",
    "run_formatdb_nucl(sys.argv[1])"
   ]
  }
 ],
 "metadata": {
  "kernelspec": {
   "display_name": "Python 3",
   "language": "python",
   "name": "python3"
  },
  "language_info": {
   "codemirror_mode": {
    "name": "ipython",
    "version": 3
   },
   "file_extension": ".py",
   "mimetype": "text/x-python",
   "name": "python",
   "nbconvert_exporter": "python",
   "pygments_lexer": "ipython3",
   "version": "3.8.3"
  }
 },
 "nbformat": 4,
 "nbformat_minor": 4
}
