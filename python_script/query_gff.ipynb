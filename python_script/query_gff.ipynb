{
 "cells": [
  {
   "cell_type": "code",
   "execution_count": 67,
   "metadata": {},
   "outputs": [
    {
     "name": "stdout",
     "output_type": "stream",
     "text": [
      "completed\n"
     ]
    }
   ],
   "source": [
    "#!/usr/bin/env python3\n",
    "# coding: utf-8\n",
    "\n",
    "\"\"\"\n",
    "2020/08/26\n",
    "author:guisen chen\n",
    "email:thecgs001@foxmail.com\n",
    "usage:./query_gff.py id.txt file.gff\n",
    "\"\"\"\n",
    "\n",
    "import sys\n",
    "\n",
    "def query_gff(id_file, gff_file):\n",
    "    id_file = open(id_file,'r')\n",
    "    gff_file = open(gff_file,'r')\n",
    "    gff = gff_file.read()\n",
    "    query_file = open('query.gff','a')\n",
    "    \n",
    "    list = gff.split('\\n\\n') #以空行为分割\n",
    "    query = []\n",
    "    for id in id_file:\n",
    "        for line in list:\n",
    "            if str(line).find(id.strip()) > 0:\n",
    "                query.append(line)\n",
    "    query.sort() #按照染色体顺序排序\n",
    "    for line in query:\n",
    "        query_file.write(f'{str(line)}\\n\\n')\n",
    "    query_file.close()\n",
    "\n",
    "#执行\n",
    "query_gff(sys.argv[1],sys.argv[2])\n",
    "print('--------completed--------')"
   ]
  },
  {
   "cell_type": "code",
   "execution_count": null,
   "metadata": {},
   "outputs": [],
   "source": []
  }
 ],
 "metadata": {
  "kernelspec": {
   "display_name": "Python 3",
   "language": "python",
   "name": "python3"
  },
  "language_info": {
   "codemirror_mode": {
    "name": "ipython",
    "version": 3
   },
   "file_extension": ".py",
   "mimetype": "text/x-python",
   "name": "python",
   "nbconvert_exporter": "python",
   "pygments_lexer": "ipython3",
   "version": "3.6.8"
  }
 },
 "nbformat": 4,
 "nbformat_minor": 4
}
