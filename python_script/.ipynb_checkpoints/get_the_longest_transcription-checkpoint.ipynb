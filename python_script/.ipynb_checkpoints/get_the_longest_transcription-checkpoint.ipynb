{
 "cells": [
  {
   "cell_type": "code",
   "execution_count": 86,
   "metadata": {},
   "outputs": [
    {
     "name": "stdout",
     "output_type": "stream",
     "text": [
      "--------finished--------\n"
     ]
    }
   ],
   "source": [
    "#!/usr/bin/env python3\n",
    "# coding: utf-8\n",
    "\n",
    "\"\"\"\n",
    "2020/10/09\n",
    "author:guisen chen\n",
    "email:thecgs001@foxmail.com\n",
    "\"\"\"\n",
    "\n",
    "import re\n",
    "import sys\n",
    "import csv\n",
    "from collections import defaultdict\n",
    "\n",
    "def parse_gff(file_gff):\n",
    "    \n",
    "    gene_ID_dict = defaultdict(list) # all mRNA id corresponding to gene id \n",
    "    ID_info_dict = defaultdict(list) # info of gene, mRNA, CDS and exon\n",
    "    CDS_length_dict = defaultdict(list) # all CDS length corresponding to mRNA id \n",
    "    the_longest_mRNA_ID_dict = defaultdict(str)\n",
    "    \n",
    "    for line in open(file_gff,'r'):\n",
    "        \n",
    "        if line.startswith('#') or line == \"\\n\": #remove '#' and '\\n'\n",
    "            continue\n",
    "        line_list = line.split(\"\\t\")\n",
    "        \n",
    "        if line_list[2] == \"gene\": \n",
    "            gene_ID = re.search(\"ID=(.*?);\",line_list[8]).group(1).strip()\n",
    "            ID_info_dict[gene_ID] = line_list[0:8] + [f'ID={gene_ID};']\n",
    "        \n",
    "        if line_list[2] == \"mRNA\" or line_list[2] == \"transcript\": \n",
    "            mRNA_ID = re.search(\"ID=(.*?);\",line_list[8]).group(1)\n",
    "            gene_ID = re.search(\"Parent=(.*?);\",line_list[8]).group(1).strip()\n",
    "            if gene_ID in gene_ID_dict:\n",
    "                gene_ID_dict[gene_ID].append(mRNA_ID)\n",
    "            else:\n",
    "                gene_ID_dict[gene_ID] = [mRNA_ID]\n",
    "            ID_info_dict[mRNA_ID].append(line_list[0:8] + [f'ID={mRNA_ID};Parent={gene_ID};'])\n",
    "            \n",
    "        if line_list[2] == \"CDS\": \n",
    "            CDS_ID = re.search(\"ID=(.*?);\",line_list[8]).group(1)\n",
    "            mRNA_ID = re.search(\"Parent=(.*?);\",line_list[8]).group(1).strip()\n",
    "            ID_info_dict[mRNA_ID].append(line_list[0:8] + [f'ID={CDS_ID};Parent={mRNA_ID};'])\n",
    "            CDS_length = int(line_list[4]) - int(line_list[3]) + 1\n",
    "            CDS_length_dict[mRNA_ID].append(CDS_length)\n",
    "        \n",
    "        if line_list[2] == \"exon\":\n",
    "            exon_ID = re.search(\"ID=(.*?);\",line_list[8]).group(1)\n",
    "            mRNA_ID = re.search(\"Parent=(.*?);\",line_list[8]).group(1).strip()\n",
    "            ID_info_dict[mRNA_ID].append(line_list[0:8] + [f'ID={exon_ID};Parent={mRNA_ID};'])\n",
    "    \n",
    "    for gene_ID,mRNA_ID_list in gene_ID_dict.items():\n",
    "        i = 0\n",
    "        for mRNA_ID in mRNA_ID_list:\n",
    "            CDS_length = sum(CDS_length_dict[mRNA_ID])\n",
    "            if CDS_length > i:\n",
    "                i = CDS_length\n",
    "                the_longest_mRNA_ID_dict[gene_ID] = mRNA_ID\n",
    "    \n",
    "    gff_file = open('./the_longest_transcription.gff','a')\n",
    "    gff = csv.writer(gff_file,delimiter='\\t')\n",
    "    for gene_ID, mRNA_ID in the_longest_mRNA_ID_dict.items():\n",
    "        for line in ([ID_info_dict[gene_ID]]+ID_info_dict[mRNA_ID]):\n",
    "            gff.writerow(line)\n",
    "    gff_file.close()\n",
    "    return print('--------finished--------')\n",
    "\n",
    "parse_gff(sys.argv[1])\n",
    "\n",
    "if __name__ == '__main__':\n",
    "    parse_gff('/home/guisen/GCF_005281545.1_ASM528154v1_genomic.gff')"
   ]
  }
 ],
 "metadata": {
  "kernelspec": {
   "display_name": "Python 3",
   "language": "python",
   "name": "python3"
  },
  "language_info": {
   "codemirror_mode": {
    "name": "ipython",
    "version": 3
   },
   "file_extension": ".py",
   "mimetype": "text/x-python",
   "name": "python",
   "nbconvert_exporter": "python",
   "pygments_lexer": "ipython3",
   "version": "3.8.3"
  }
 },
 "nbformat": 4,
 "nbformat_minor": 4
}
