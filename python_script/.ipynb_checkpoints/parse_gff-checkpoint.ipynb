{
 "cells": [
  {
   "cell_type": "code",
   "execution_count": 82,
   "metadata": {},
   "outputs": [
    {
     "ename": "SyntaxError",
     "evalue": "invalid syntax (<ipython-input-82-f45f8f53f3a0>, line 66)",
     "output_type": "error",
     "traceback": [
      "\u001b[0;36m  File \u001b[0;32m\"<ipython-input-82-f45f8f53f3a0>\"\u001b[0;36m, line \u001b[0;32m66\u001b[0m\n\u001b[0;31m    return gene = gene_ID_dict,mRNA_ID_dict,ID_info_dict,mRNA_length_dict\u001b[0m\n\u001b[0m                ^\u001b[0m\n\u001b[0;31mSyntaxError\u001b[0m\u001b[0;31m:\u001b[0m invalid syntax\n"
     ]
    }
   ],
   "source": [
    "#!/usr/bin/env python3\n",
    "# coding: utf-8\n",
    "\n",
    "\"\"\"\n",
    "2020/10/09\n",
    "author:guisen chen\n",
    "email:thecgs001@foxmail.com\n",
    "\"\"\"\n",
    "\n",
    "import re\n",
    "from collections import defaultdict\n",
    "\n",
    "def parse_gff(file_gff):\n",
    "    \n",
    "    gene_ID_dict = defaultdict(list) # all mRNA id corresponding to gene id \n",
    "    mRNA_ID_dict = defaultdict(list) # all CDS and exon id corresponding to mRNA id\n",
    "    ID_info_dict = defaultdict(list) # info of gene, mRNA, CDS and exon\n",
    "    CDS_length_dict = defaultdict(list) # all CDS length corresponding to mRNA id \n",
    "    mRNA_length_dict = defaultdict(int) # all mRNA length\n",
    "    \n",
    "    for line in open(file_gff,'r'):\n",
    "        \n",
    "        if line.startswith('#') or line == \"\\n\": #remove '#' and '\\n'\n",
    "            continue\n",
    "        line_list = line.strip().split(\"\\t\")\n",
    "        \n",
    "        if line_list[2] == \"gene\": # parse gene\n",
    "            gene_ID = re.search(\"ID=(.*?);\",line_list[8]).group(1).strip()\n",
    "            ID_info_dict[gene_ID] = line_list[0:7]\n",
    "        \n",
    "        if line_list[2] == \"mRNA\" or line_list[2] == \"transcript\": # parse mRNA\n",
    "            mRNA_ID = re.search(\"ID=(.*?);\",line_list[8]).group(1)\n",
    "            gene_ID = re.search(\"Parent=(.*?);\",line_list[8]).group(1).strip()\n",
    "            if gene_ID in gene_ID_dict:\n",
    "                gene_ID_dict[gene_ID].append(mRNA_ID)\n",
    "            else:\n",
    "                gene_ID_dict[gene_ID] = [mRNA_ID]\n",
    "            ID_info_dict[mRNA_ID] = line_list[0:7]\n",
    "            \n",
    "        if line_list[2] == \"CDS\": # parse CDS\n",
    "            CDS_ID = re.search(\"ID=(.*?);\",line_list[8]).group(1)\n",
    "            mRNA_ID = re.search(\"Parent=(.*?);\",line_list[8]).group(1).strip()\n",
    "            if CDS_ID not in mRNA_ID_dict[mRNA_ID]:\n",
    "                if mRNA_ID in mRNA_ID_dict:\n",
    "                    mRNA_ID_dict[mRNA_ID].append(CDS_ID)\n",
    "                else:\n",
    "                    mRNA_ID_dict[mRNA_ID] = [CDS_ID]\n",
    "            ID_info_dict[CDS_ID].append(line_list[0:7])\n",
    "            CDS_length = int(line_list[4]) - int(line_list[3]) + 1\n",
    "            CDS_length_dict[mRNA_ID].append(CDS_length)\n",
    "        \n",
    "        if line_list[2] == \"exon\": # parse exon\n",
    "            exon_ID = re.search(\"ID=(.*?);\",line_list[8]).group(1)\n",
    "            mRNA_ID = re.search(\"Parent=(.*?);\",line_list[8]).group(1).strip()\n",
    "            if mRNA_ID in mRNA_ID_dict:\n",
    "                mRNA_ID_dict[mRNA_ID].append(exon_ID)\n",
    "            else:\n",
    "                mRNA_ID_dict[mRNA_ID] = [exon_ID]\n",
    "            ID_info_dict[exon_ID] = line_list[0:7]\n",
    "    \n",
    "    \n",
    "    for mRNA_ID,CDS_length_list in CDS_length_dict.items():\n",
    "        mRNA_length_dict[mRNA_ID] = sum(CDS_length_list)\n",
    "    \n",
    "    del(CDS_length_dict)    \n",
    "    return gene_ID_dict,mRNA_ID_dict,ID_info_dict,mRNA_length_dict\n",
    "\n",
    "if __name__ == '__main__':\n",
    "    print(parse_gff('/home/guisen/GCF_005281545.1_ASM528154v1_genomic.gff'))"
   ]
  },
  {
   "cell_type": "code",
   "execution_count": null,
   "metadata": {},
   "outputs": [],
   "source": []
  }
 ],
 "metadata": {
  "kernelspec": {
   "display_name": "Python 3",
   "language": "python",
   "name": "python3"
  },
  "language_info": {
   "codemirror_mode": {
    "name": "ipython",
    "version": 3
   },
   "file_extension": ".py",
   "mimetype": "text/x-python",
   "name": "python",
   "nbconvert_exporter": "python",
   "pygments_lexer": "ipython3",
   "version": "3.8.3"
  }
 },
 "nbformat": 4,
 "nbformat_minor": 4
}
