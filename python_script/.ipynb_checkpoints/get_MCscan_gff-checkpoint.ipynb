{
 "cells": [
  {
   "cell_type": "code",
   "execution_count": 8,
   "metadata": {},
   "outputs": [
    {
     "name": "stdout",
     "output_type": "stream",
     "text": [
      "--------finished--------\n"
     ]
    }
   ],
   "source": [
    "#!/usr/bin/env python3\n",
    "# coding: utf-8\n",
    "\n",
    "\"\"\"\n",
    "2020/10/09\n",
    "author:guisen chen\n",
    "email:thecgs001@foxmail.com\n",
    "\"\"\"\n",
    "\n",
    "import re\n",
    "import sys\n",
    "import csv\n",
    "\n",
    "def get_MCscan_gff(file_gff,species_name):\n",
    "    \n",
    "    gff_file = open(f'{species_name}.gff','a')\n",
    "    gff = csv.writer(gff_file,delimiter='\\t')\n",
    "    \n",
    "    for line in open(file_gff,'r'):\n",
    "        \n",
    "        if line.startswith('#') or line == \"\\n\": #remove '#' and '\\n'\n",
    "            continue\n",
    "        line_list = line.split(\"\\t\")\n",
    "        \n",
    "        if line_list[2] == \"mRNA\" or line_list[2] == \"transcript\": \n",
    "            mRNA_ID = re.search(\"ID=(.*?);\",line_list[8]).group(1)\n",
    "            #print([f\"{species_name}-\" + line_list[0], mRNA_ID, line_list[3], line_list[4]])\n",
    "            gff.writerow([f\"{species_name}-\" + line_list[0], mRNA_ID, line_list[3], line_list[4]])\n",
    "    gff_file.close()\n",
    "    \n",
    "    return print('--------finished--------')\n",
    "\n",
    "#get_MCscan_gff(sys.argv[1],sys.argv[2])\n",
    "\n",
    "if __name__ == '__main__':\n",
    "    get_MCscan_gff('/home/guisen/GCF_005281545.1_ASM528154v1_genomic.gff',\"AT\")"
   ]
  }
 ],
 "metadata": {
  "kernelspec": {
   "display_name": "Python 3",
   "language": "python",
   "name": "python3"
  },
  "language_info": {
   "codemirror_mode": {
    "name": "ipython",
    "version": 3
   },
   "file_extension": ".py",
   "mimetype": "text/x-python",
   "name": "python",
   "nbconvert_exporter": "python",
   "pygments_lexer": "ipython3",
   "version": "3.8.3"
  }
 },
 "nbformat": 4,
 "nbformat_minor": 4
}
