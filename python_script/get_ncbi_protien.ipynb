{
 "cells": [
  {
   "cell_type": "code",
   "execution_count": 35,
   "metadata": {},
   "outputs": [
    {
     "name": "stdout",
     "output_type": "stream",
     "text": [
      "No result: ['12314575', 'sdcdsfds', '', '']\n",
      "Result: ['NP_003254.2', 'NP_001305718.1']\n"
     ]
    }
   ],
   "source": [
    "#!/usr/bin/env python3\n",
    "#coding: utf-8\n",
    "\n",
    "\"\"\"\n",
    "2020/08/26\n",
    "author:guisen chen\n",
    "email:thecgs001@foxmail.com\n",
    "description:According to the ID number, the protein sequence \n",
    "            was queried in batches from the NCBI protein database.\n",
    "usage:./get_ncbi_protien seq_id.txt\n",
    "\"\"\"\n",
    "import sys\n",
    "from Bio import Entrez\n",
    "from Bio import SeqIO\n",
    "\n",
    "Entrez.email = 'thecgs001@foxmail.com'\n",
    "\n",
    "def get_ncbi_protien(seq_id):\n",
    "    infile = open(seq_id,'r')\n",
    "    outfile = open(f'protein.fa','a')\n",
    "    error_list = []\n",
    "    correct_list = []\n",
    "    for seq_id in infile:\n",
    "        try:\n",
    "            return_query = Entrez.efetch(db='protein',rettype='gb',retmode='text',id=seq_id.strip())\n",
    "            seq_record = SeqIO.read(return_query,'gb')\n",
    "            outfile.write(f'>{seq_record.name}|{seq_record.description}\\n{seq_record.seq}\\n')\n",
    "            correct_list.append(seq_id.strip())\n",
    "            print(f'{seq_record.name} finished')\n",
    "        except:\n",
    "            error_list.append(seq_id.strip())\n",
    "    infile.close()\n",
    "    outfile.close()\n",
    "    return print(f'No result: {error_list}\\nResult: {correct_list}')#返回查询和未查询到的id号\n",
    "\n",
    "#执行    \n",
    "get_ncbi_protien(sys.argv[1])"
   ]
  }
 ],
 "metadata": {
  "kernelspec": {
   "display_name": "Python 3",
   "language": "python",
   "name": "python3"
  },
  "language_info": {
   "codemirror_mode": {
    "name": "ipython",
    "version": 3
   },
   "file_extension": ".py",
   "mimetype": "text/x-python",
   "name": "python",
   "nbconvert_exporter": "python",
   "pygments_lexer": "ipython3",
   "version": "3.6.8"
  }
 },
 "nbformat": 4,
 "nbformat_minor": 4
}
