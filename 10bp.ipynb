{
 "cells": [
  {
   "cell_type": "code",
   "execution_count": 51,
   "metadata": {
    "scrolled": true
   },
   "outputs": [
    {
     "name": "stdout",
     "output_type": "stream",
     "text": [
      "87\n",
      "['GTATTTTCGT', 'GTGT', 'GTCGCAGT', 'GTATCTGT', 'GTGT', 'GTGT', 'GTTTATGT', 'GTTTGGT', 'GTTCCAGT', 'GTGAGT', 'GTTGGT', 'GTAAAGAGT', 'GTGT', 'GTTGT', 'GTTCTGT', 'GTACCCACGT', 'GTAAAGACGT', 'GTTAGGT', 'GTCAAGGT', 'GTGT', 'GTCGAAGGT', 'GTAGAGT', 'GTGCTTAGT', 'GTCGT', 'GTAACATGGT', 'GTAAGT', 'GTGT', 'GTGT', 'GTCTATGT', 'GTTGT', 'GTTAGT', 'GTTAGT', 'GTATAAGT', 'GTGCAaaggt', 'gttcagctgt', 'GTTCGT', 'GTTTGT', 'GTCCTACGT', 'GTCGGT', 'GTTTgt', 'gtcagaggt', 'GTTGT', 'GTAAGGT', 'GTTGGT', 'GTTGAGGT', 'GTTCTACCGT', 'GTAAGT', 'GTTATCGT', 'GTTGAACAGT', 'GTGT', 'GTATGGT', 'GTTTATCGT', 'GTGT', 'GTCAAAGT', 'GTAGGT', 'GTACTACGT', 'GTTGT', 'GTCAAAGT', 'GTAGGT', 'GTCCTGT', 'GTAGT', 'GTAGATGT', 'GTGGT', 'GTATGT', 'GTACCGT', 'GTTATGT', 'GTATATAGT', 'GTCAATAGT', 'GTAGT', 'GTGCTAGT', 'GTAACCACGT', 'GTAGCATTGT', 'GTTCGT', 'GTTACATGGT', 'GTTGT', 'GTAGT', 'GTTGT', 'GTCCTCCCGT', 'GTAGACAGT', 'GTCCTTGT', 'GTAGT', 'GTCTTGT', 'GTATTTCGT', 'GTACGGT', 'GTAGT', 'GTACATAGT', 'GTGAACTGT']\n"
     ]
    }
   ],
   "source": [
    "#!/usr/bin/env python3\n",
    "# coding: utf-8\n",
    "\n",
    "\"\"\"\n",
    "2020/11/17\n",
    "author:guisen chen\n",
    "email:thecgs001@foxmail.com\n",
    "\"\"\"\n",
    "\n",
    "import re\n",
    "from Bio import SeqIO\n",
    "\n",
    "match_seq = [] # result list\n",
    "\n",
    "record = SeqIO.read(\"/home/guisen/test.fasta\",\"fasta\") # read seq_file\n",
    "temp = re.compile(\"GT\",re.I).finditer(str(record.seq)) # re_str \"GT\" \n",
    "\n",
    "pos_list = [] # macth position_list\n",
    "for i in temp:\n",
    "    pos_list.append(i.span())\n",
    "\n",
    "i = 0\n",
    "while i < len(pos_list) - 1:\n",
    "    if pos_list[i+1][0] - pos_list[i][0] <= 8: # longest 10bp seq\n",
    "        match_seq.append((str(record.seq)[pos_list[i][0]:int(pos_list[i+1][0])+2])) # print match seq\n",
    "    i += 1\n",
    "\n",
    "print(len(match_seq))\n",
    "print(match_seq)"
   ]
  }
 ],
 "metadata": {
  "kernelspec": {
   "display_name": "Python 3",
   "language": "python",
   "name": "python3"
  },
  "language_info": {
   "codemirror_mode": {
    "name": "ipython",
    "version": 3
   },
   "file_extension": ".py",
   "mimetype": "text/x-python",
   "name": "python",
   "nbconvert_exporter": "python",
   "pygments_lexer": "ipython3",
   "version": "3.8.3"
  }
 },
 "nbformat": 4,
 "nbformat_minor": 4
}
