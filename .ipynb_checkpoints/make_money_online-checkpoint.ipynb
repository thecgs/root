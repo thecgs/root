{
 "cells": [
  {
   "cell_type": "code",
   "execution_count": 71,
   "id": "electoral-equation",
   "metadata": {},
   "outputs": [
    {
     "name": "stdout",
     "output_type": "stream",
     "text": [
      "  names  earning    datetime\n",
      "0  choi      160  2021-05-10\n",
      "1   刘博文       50  2021-05-06\n",
      "2   周建斌       50  2021-05-05\n",
      "3    尹慧       20  2021-04-30\n",
      "4   冉姝琪      100  2021-04-29\n",
      "5   潘玺玉      130  2021-04-26\n",
      "6   李厚诚       10  2021-04-23\n",
      "7   李璐璐      150  2021-04-13\n",
      "8    刘博      300  2021-04-06\n",
      "Total incoming 970\n"
     ]
    }
   ],
   "source": [
    "import pandas as pd\n",
    "names = ['choi','刘博文', '周建斌', '尹慧', '冉姝琪', '潘玺玉', '李厚诚', '李璐璐', '刘博']\n",
    "earning = [160,50, 50, 20, 100, 130, 10, 150, 300]\n",
    "datetime = ['2021-05-10','2021-05-06','2021-05-05','2021-04-30','2021-04-29','2021-04-26','2021-04-23','2021-04-13','2021-04-06']\n",
    "\n",
    "dataframe = pd.DataFrame({'names':names,'earning':earning,'datetime':datetime})\n",
    "print(dataframe)\n",
    "print(f'Total incoming {sum(earning)}')"
   ]
  }
 ],
 "metadata": {
  "kernelspec": {
   "display_name": "Python 3",
   "language": "python",
   "name": "python3"
  },
  "language_info": {
   "codemirror_mode": {
    "name": "ipython",
    "version": 3
   },
   "file_extension": ".py",
   "mimetype": "text/x-python",
   "name": "python",
   "nbconvert_exporter": "python",
   "pygments_lexer": "ipython3",
   "version": "3.9.2"
  }
 },
 "nbformat": 4,
 "nbformat_minor": 5
}
