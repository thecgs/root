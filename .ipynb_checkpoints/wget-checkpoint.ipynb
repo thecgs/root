{
 "cells": [
  {
   "cell_type": "code",
   "execution_count": null,
   "metadata": {},
   "outputs": [],
   "source": [
    "import sys\n",
    "import subprocess\n",
    "\n",
    "with open(sys.argv[1], 'r') as f:\n",
    "    for id in f:\n",
    "        id = str(id.strip())\n",
    "        add = 'http://rest.kegg.jp/get/'+id+'/aaseq'\n",
    "        cline = subprocess.Popen(f'wget -c {add} -O {id}',env = None,shell=True)\n",
    "        cline.wait()"
   ]
  }
 ],
 "metadata": {
  "kernelspec": {
   "display_name": "Python 3",
   "language": "python",
   "name": "python3"
  },
  "language_info": {
   "codemirror_mode": {
    "name": "ipython",
    "version": 3
   },
   "file_extension": ".py",
   "mimetype": "text/x-python",
   "name": "python",
   "nbconvert_exporter": "python",
   "pygments_lexer": "ipython3",
   "version": "3.8.3"
  }
 },
 "nbformat": 4,
 "nbformat_minor": 4
}
