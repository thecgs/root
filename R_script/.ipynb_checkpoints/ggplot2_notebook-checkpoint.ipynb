{
 "cells": [
  {
   "cell_type": "code",
   "execution_count": null,
   "id": "ae7fe0b6",
   "metadata": {},
   "outputs": [],
   "source": [
    "valcano = ggplot(La_vs_CLa,aes(x =log2FoldChange, y=-log10(padj),color=change))\n",
    "        +geom_point(size=1.5,na.rm = T)\n",
    "        +theme(text = element_text(family='serif',size=10,face = 'bold'))\n",
    "        +geom_vline(xintercept=c(-1, 1), lty=2, col=\"gray\", lwd=0.5)\n",
    "        +geom_hline(yintercept=-log10(0.05), lty=2, col=\"gray\", lwd=0.5)\n",
    "        +scale_color_manual(name=\"significant\", values=c(\"#f8766d\", \"#00ba38\", \"#619cff\"),breaks =c(\"Up\", \"Down\", \"Unchanged\"),labels = paste(c('Down','Unchanged','Up'),table(La_vs_CLa$change),sep=':')[c(3,1,2)])"
   ]
  }
 ],
 "metadata": {
  "kernelspec": {
   "display_name": "Python 3",
   "language": "python",
   "name": "python3"
  },
  "language_info": {
   "codemirror_mode": {
    "name": "ipython",
    "version": 3
   },
   "file_extension": ".py",
   "mimetype": "text/x-python",
   "name": "python",
   "nbconvert_exporter": "python",
   "pygments_lexer": "ipython3",
   "version": "3.9.4"
  }
 },
 "nbformat": 4,
 "nbformat_minor": 5
}
