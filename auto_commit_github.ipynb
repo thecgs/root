{
 "cells": [
  {
   "cell_type": "code",
   "execution_count": 1,
   "metadata": {},
   "outputs": [
    {
     "name": "stdout",
     "output_type": "stream",
     "text": [
      "--------completed--------\n"
     ]
    }
   ],
   "source": [
    "#!/usr/bin/env python3\n",
    "# coding: utf-8\n",
    "\n",
    "\"\"\"\n",
    "date:2020/09/20\n",
    "description:auto commit github\n",
    "\"\"\"\n",
    "\n",
    "import os \n",
    "import threading\n",
    "import subprocess\n",
    "\n",
    "def auto_commit_github():\n",
    "    os.chdir('/home/guisen/jupyter/root/') #设置仓库路径\n",
    "    line1 = subprocess.Popen('git add -A',shell=True)\n",
    "    line1.wait()\n",
    "    line2 = subprocess.Popen(\"git commit -m 'auto commit'\",shell=True)\n",
    "    line2.wait()\n",
    "    line3 = subprocess.Popen('git pull origin master',shell=True)\n",
    "    line3.wait()\n",
    "    line4 = subprocess.Popen('git push origin master',shell=True)\n",
    "    line4.wait()\n",
    "    return print('--------completed--------')\n",
    "\n",
    "auto_commit_github()\n",
    "#定时运行\n",
    "#timer = threading.Timer(60,auto_commit_github) # 86400秒就是一天\n",
    "#timer.start()"
   ]
  },
  {
   "cell_type": "code",
   "execution_count": null,
   "metadata": {},
   "outputs": [],
   "source": []
  }
 ],
 "metadata": {
  "kernelspec": {
   "display_name": "Python 3",
   "language": "python",
   "name": "python3"
  },
  "language_info": {
   "codemirror_mode": {
    "name": "ipython",
    "version": 3
   },
   "file_extension": ".py",
   "mimetype": "text/x-python",
   "name": "python",
   "nbconvert_exporter": "python",
   "pygments_lexer": "ipython3",
   "version": "3.9.2"
  }
 },
 "nbformat": 4,
 "nbformat_minor": 4
}
