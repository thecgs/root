{
 "cells": [
  {
   "cell_type": "markdown",
   "metadata": {},
   "source": [
    "hmmer安装："
   ]
  },
  {
   "cell_type": "code",
   "execution_count": null,
   "metadata": {},
   "outputs": [],
   "source": [
    "#hmmer install\n",
    "cd /opt/biosoftware\n",
    "wget http://eddylab.org/software/hmmer/hmmer-3.1b2.tar.gz\n",
    "tar -zxvf hmmer-3.1b2.tar.gz\n",
    "cd hmmer-3.1b2/\n",
    "./configure --prefix /opt/biosoftware/hmmer\n",
    "make\n",
    "make check\n",
    "make install\n",
    "rm -rf /opt/biosoftware/hmmer-3.1b2\n",
    "cd /opt/biosoftware\n",
    "echo 'export PATH=/opt/biosoftware/hmmer/bin:$PATH' >> /etc/profile\n",
    "source /etc/profile\n",
    "#hmmer use\n",
    "hmmbuild ~/TLR/cal-tlr.hmm ~/cal-tlr.aln #构建hmm模型\n",
    "hmmsearch --cut_tc --domtblout Cal.TLR.out Cal.TLR.hmm ~/03.structure_annotation/pasa2.longest.filter.pep"
   ]
  },
  {
   "cell_type": "markdown",
   "metadata": {},
   "source": [
    "hmmbuild："
   ]
  },
  {
   "cell_type": "code",
   "execution_count": null,
   "metadata": {},
   "outputs": [],
   "source": [
    "hmmbuild Cal.TLR.hmm Cal.TLR.aln"
   ]
  },
  {
   "cell_type": "markdown",
   "metadata": {},
   "source": [
    "hmmsearch："
   ]
  },
  {
   "cell_type": "code",
   "execution_count": null,
   "metadata": {},
   "outputs": [],
   "source": [
    "hmmsearch --cut_tc --domtblout Cal.TLR.out Cal.TLR.hmm ~/03.structure_annotation/pasa2.longest.filter.pep"
   ]
  },
  {
   "cell_type": "code",
   "execution_count": null,
   "metadata": {},
   "outputs": [],
   "source": [
    "grep -v \"#\" Cal.TLR.out |awk '($7 + 0) < 1E-20' |cut -f1 -d \" \" |sort -u > Cal.TLR.hmmer.list\n",
    "less ~/03.structure_annotation/pasa2.longest.filter.pep |~/biosoftware/seqkit/seqkit grep -f Cal.TLR.hmmer.list > Cal.TLR.hmmer.fa"
   ]
  },
  {
   "cell_type": "code",
   "execution_count": null,
   "metadata": {},
   "outputs": [],
   "source": [
    "gunzip  Pfam-A.hmm.gz Pfam-A.hmm.dat.gz active_site.dat.gz \n",
    "~/biosoftware/PfamScan/pfam_scan.pl -fasta Cal.TLR.hmmer.fa -dir ~/biosoftware/pfam-hmm/ -outfile Cal.TLR.hmmer.annotation"
   ]
  },
  {
   "cell_type": "markdown",
   "metadata": {},
   "source": [
    "blast安装："
   ]
  },
  {
   "cell_type": "code",
   "execution_count": null,
   "metadata": {},
   "outputs": [],
   "source": [
    "cd /opt/biosoftware\n",
    "wget ftp://ftp.ncbi.nlm.nih.gov/blast/executables/blast+/2.10.0/ncbi-blast-2.10.0+-x64-linux.tar.gz\n",
    "tar -zxvf ncbi-blast-2.10.0+-x64-linux.tar.gz\n",
    "echo 'export PATH=/opt/biosoftware/ncbi-blast-2.10.0+/bin:$PATH' >> /etc/profile\n",
    "source /etc/profile"
   ]
  },
  {
   "cell_type": "markdown",
   "metadata": {},
   "source": [
    "clustalw2安装："
   ]
  },
  {
   "cell_type": "code",
   "execution_count": null,
   "metadata": {},
   "outputs": [],
   "source": [
    "wget http://www.clustal.org/download/current/clustalw-2.1-linux-x86_64-libcppstatic.tar.gz\n",
    "tar -zxvf clustalw-2.1-linux-x86_64-libcppstatic.tar.gz\n",
    "echo 'export PATH=/opt/biosoftware/clustalw-2.1-linux-x86_64-libcppstatic:$PATH' >> /etc/profile\n",
    "source /etc/profile"
   ]
  },
  {
   "cell_type": "markdown",
   "metadata": {},
   "source": [
    "samtools安装："
   ]
  },
  {
   "cell_type": "code",
   "execution_count": null,
   "metadata": {},
   "outputs": [],
   "source": [
    "tar -xvf samtools-1.10.tar\n",
    "cd samtools-1.10/\n",
    "yum install -y ncurses-devel\n",
    "yum install -y zlib zlib-devel\n",
    "yum install -y bzip2-devel\n",
    "yum install -y xz-devel\n",
    "yum install -y curl-devel\n",
    "./configure --prefix /opt/biosoftware/samtools\n",
    "make\n",
    "make check\n",
    "make install\n",
    "echo 'export PATH=/opt/biosoftware/samtools/bin:$PATH' >> /etc/profile\n",
    "source /etc/profile\n",
    "rm -rf /opt/biosoftware/samtools-1.10\n",
    "cd /opt/biosoftware/"
   ]
  },
  {
   "cell_type": "markdown",
   "metadata": {},
   "source": [
    "PfamScan安装："
   ]
  },
  {
   "cell_type": "code",
   "execution_count": null,
   "metadata": {},
   "outputs": [],
   "source": [
    "tar -zxvf PfamScan.tar.gz\n",
    "yum install -y perl\n",
    "yum -y install perl-CPAN\n",
    "perl -MCPAN -e shell\n",
    "install Moose\n",
    "install BioPerl\n",
    "exit\n",
    "echo 'export PERL5LIB=/opt/biosoftware/PfamScan:$PERL5LIB' >> /etc/profile\n",
    "source /etc/profile\n"
   ]
  },
  {
   "cell_type": "code",
   "execution_count": null,
   "metadata": {},
   "outputs": [],
   "source": [
    "Test Summary Report\n",
    "-------------------\n",
    "t/00-compile.t                    (Wstat: 1280 Tests: 512 Failed: 5)\n",
    "  Failed tests:  332, 344, 359, 365, 468\n",
    "  Non-zero exit status: 5\n",
    "Files=212, Tests=14575, 703 wallclock secs ( 0.94 usr  0.11 sys + 59.61 cusr  4.16 csys = 64.82 CPU)\n",
    "Result: FAIL\n",
    "Failed 1/212 test programs. 5/14575 subtests failed.\n",
    "make: *** [test_dynamic] Error 255\n",
    "  CJFIELDS/BioPerl-1.7.7.tar.gz\n",
    "5 dependencies missing (XML::LibXML,XML::SAX,XML::LibXML::Reader,Test::Weaken,XML::SAX::Writer); additionally test harness failed\n",
    "  /usr/bin/make test -- NOT OK\n",
    "//hint// to see the cpan-testers results for installing this module, try:\n",
    "  reports CJFIELDS/BioPerl-1.7.7.tar.gz\n",
    "Running make install\n",
    "  make test had returned bad status, won't install without force\n",
    "prerequisite module[Errno] not known\n",
    "prerequisite module[Errno] not known\n",
    "prerequisite module[Errno] not known\n",
    "Failed during this command:\n",
    " PLICEASE/File-Which-1.23.tar.gz              : make_test NO\n",
    " PLICEASE/Alien-Build-2.23.tar.gz             : writemakefile NO '/usr/bin/perl Makefile.PL' returned status 512\n",
    " SHLOMIF/XML-LibXML-2.0205.tar.gz             : writemakefile NO '/usr/bin/perl Makefile.PL' returned status 512\n",
    " PLICEASE/Alien-Libxml2-0.16.tar.gz           : writemakefile NO '/usr/bin/perl Makefile.PL' returned status 512\n",
    " GRANTM/XML-SAX-1.02.tar.gz                   : make_test NO\n",
    " KRYDE/Test-Weaken-3.022000.tar.gz            : make_test NO\n",
    " RBERJON/XML-Filter-BufferText-1.01.tar.gz    : make_test NO one dependency not OK (XML::SAX)\n",
    " PERIGRIN/XML-SAX-Writer-0.57.tar.gz          : make_test NO one dependency not OK (XML::Filter::BufferText); additionally test harness failed\n",
    " CJFIELDS/BioPerl-1.7.7.tar.gz                : make_test NO 5 dependencies missing (XML::LibXML,XML::SAX,XML::LibXML::Reader,Test::Weaken,XML::S                        AX::Writer); additionally test harness failed\n"
   ]
  },
  {
   "cell_type": "markdown",
   "metadata": {},
   "source": [
    "seqkit安装："
   ]
  },
  {
   "cell_type": "code",
   "execution_count": null,
   "metadata": {},
   "outputs": [],
   "source": [
    "tar -zxvf seqkit_linux_amd64.tar.gz\n",
    "mkdir /opt/biosoftware/seqkit1 ; mv /opt/biosoftware/seqkit /opt/biosoftware/seqkit1/seqkit ; mv /opt/biosoftware/seqkit1 /opt/biosoftware/seqkit\n",
    "echo 'export PATH=/opt/biosoftware/seqkit:$PATH' >> /etc/profile\n",
    "source /etc/profile"
   ]
  },
  {
   "cell_type": "markdown",
   "metadata": {},
   "source": [
    "genewise安装："
   ]
  },
  {
   "cell_type": "code",
   "execution_count": null,
   "metadata": {},
   "outputs": [],
   "source": [
    "tar -zvxf wise2.4.1.tar.gz\n",
    "cd /opt/biosoftware/wise2.4.1/src\n",
    "yum install *glib*\n",
    "find . -name  makefile | xargs sed -i 's/glib-config/pkg-config glib-2.0/'\n",
    "perl -p -i -e 's/getline/getline_ReadSeqVars/g' ./HMMer2/sqio.c\n",
    "perl -p -i -e 's/isnumber/isdigit/' models/phasemodel.c\n",
    "perl -p -i -e's/csh welcome.csh/sh welcome.csh/'  makefile\n",
    "make all\n",
    "export WISECONFIGDIR=/opt/biosoftware/wise2.4.1/wisecfg\n",
    "make test\n",
    "echo 'PATH=/opt/biosoftware/wise2.4.1/src/bin:$PATH' >> /etc/profile\n",
    "echo 'export WISECONFIGDIR=/opt/biosoftware/wise2.4.1/wisecfg/' >> /etc/profile\n",
    "source /etc/profile"
   ]
  },
  {
   "cell_type": "markdown",
   "metadata": {},
   "source": [
    "Frp安装"
   ]
  },
  {
   "cell_type": "code",
   "execution_count": null,
   "metadata": {},
   "outputs": [],
   "source": [
    "#安装\n",
    "wget https://github.com/fatedier/frp/releases/download/v0.33.0/frp_0.33.0_linux_amd64.tar.gz\n",
    "tar -zxvf frp_0.33.0_linux_amd64.tar.gz\n",
    "\n",
    "#服务端配置\n",
    "vi frps.ini\n",
    "\"\"\"\n",
    "bind_port = 7000\n",
    "dashboard_port = 7500\n",
    "token = 201279\n",
    "dashboard_user = guisen\n",
    "dashboard_pwd = 201279\n",
    "\"\"\"\n",
    "nohup ./frps -c frps.ini &\n",
    "\n",
    "#客户端配置\n",
    "vi frpc.ini\n",
    "\"\"\"\n",
    "[common]\n",
    "server_addr = 129.211.12.86\n",
    "server_port = 7000\n",
    "token = 201279\n",
    "[ssh]\n",
    "type = tcp\n",
    "local_ip = 192.168.1.112           \n",
    "local_port = 22\n",
    "remote_port = 7022\n",
    "\"\"\"\n",
    "nohup ./frps -c frpc.ini &\n",
    "\n",
    "#ssh -p 7022 guisen@http://129.211.12.86"
   ]
  }
 ],
 "metadata": {
  "kernelspec": {
   "display_name": "Python 3",
   "language": "python",
   "name": "python3"
  },
  "language_info": {
   "codemirror_mode": {
    "name": "ipython",
    "version": 3
   },
   "file_extension": ".py",
   "mimetype": "text/x-python",
   "name": "python",
   "nbconvert_exporter": "python",
   "pygments_lexer": "ipython3",
   "version": "3.9.2"
  }
 },
 "nbformat": 4,
 "nbformat_minor": 4
}
