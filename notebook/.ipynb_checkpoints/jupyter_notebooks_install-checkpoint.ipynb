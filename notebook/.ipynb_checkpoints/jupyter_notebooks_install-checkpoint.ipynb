{
 "cells": [
  {
   "cell_type": "markdown",
   "metadata": {},
   "source": [
    "jupyter安装："
   ]
  },
  {
   "cell_type": "code",
   "execution_count": null,
   "metadata": {},
   "outputs": [],
   "source": [
    "yum -y install python3#安装python3\n",
    "yum -y install python-pip#安装pip\n",
    "pip install --upgrade pip#更新pip\n",
    "yum -y groupinstall \"Development Tools\"#依赖\n",
    "yum -y install python-devel#依赖\n",
    "\n",
    "pip install virtualenv#安装虚拟环境包\n",
    "virtualenv venv#创建虚拟环境\n",
    "source venv/bin/activate#激活虚拟环境\n",
    "\n",
    "mkdir /data/jupyter\n",
    "cd /data/jupyter\n",
    "mkdir /data/jupyter/root#作为jupyter的根目录\n",
    "\n",
    "python3#进入pathon3环境\n",
    "import IPython\n",
    "IPython.lib.passwd()#执行后需要输入并确认密码，然后程序会返回一个 'sha1:...' 的密文\n",
    "\n",
    "jupyter notebook --generate-config --allow-root#生成默认配置文件，生成的配置文件在/root/.jupyter/目录下\n",
    "vim /root/.jupyter/jupyter_notebook_config.py#修改配置文件\n",
    "\n",
    "#修改内容如下：\n",
    "“”“\n",
    "c.NotebookApp.ip = '*'\n",
    "c.NotebookApp.allow_root = True\n",
    "c.NotebookApp.open_browser = False\n",
    "c.NotebookApp.port = 8888\n",
    "c.NotebookApp.password = u'刚才生成的密文(sha1:...)'\n",
    "c.ContentsManager.root_dir = '/data/jupyter/root'\n",
    "”“”\n",
    "\n",
    "nohup jupyter notebook > /data/jupyter/jupyter.log 2>&1 &#后台运行，并将日志写在/data/jupyter/jupyter.log文件中\n",
    "deactivate#退出venv环境\n",
    "\n",
    "\n",
    "\n",
    "#jupyter 主题\n",
    "pip install jupyterthemes\n",
    "jt -t monokai -f fira -fs 13 -cellw 90% -ofs 11 -dfs 11 -T -N"
   ]
  },
  {
   "cell_type": "code",
   "execution_count": null,
   "metadata": {},
   "outputs": [],
   "source": [
    "yum install -y R.x86_64\n",
    "wget https://download2.rstudio.org/server/centos7/x86_64/rstudio-server-rhel-1.4.1106-x86_64.rpm\n",
    "yum install rstudio-server-rhel-1.4.1106-x86_64.rpm\n",
    "systemctl enable rstudio-server.service\n",
    "systemctl start rstudio-server.service\n",
    "systemctl status rstudio-server\n",
    "firewalld\n",
    "firewall-cmd --permanent --add-port=8787/tcp\n",
    "firewall-cmd --permanent --add-port=8787/udp\n",
    "firewall-cmd --reload\n",
    "\n",
    "mkdir -p ~/jupyter/root\n",
    "wget https://repo.anaconda.com/archive/Anaconda3-2020.11-Linux-x86_64.sh\n",
    "wget https://repo.anaconda.com/miniconda/Miniconda3-latest-Linux-x86_64.sh\n",
    "bash Anaconda3-2020.11-Linux-x86_64.sh\n",
    "source .bashrc\n",
    "jupyter notebook --generate-config --allow-root\n",
    "vim /root/.jupyter/jupyter_notebook_config.py\n",
    "pip install jupyterthemes\n",
    "jt -t chesterish -f fira -fs 13 -cellw 90% -ofs 11 -dfs 11 -T -N\n",
    "nohup jupyter notebook > /home/guisen/jupyter/jupyter.log 2>&1\n",
    "yum install git\n",
    "git config --global user.name \"guisen chen\"\n",
    "git config --global user.email \"thecgs001@foxmail.com\"\n",
    "ssh-keygen -t rsa -C \"thecgs001@foxmail.com\"\n",
    "cd /home/guisen/jupyter/\n",
    "git clone git@github.com:thecgs/root.git"
   ]
  }
 ],
 "metadata": {
  "kernelspec": {
   "display_name": "Python 3",
   "language": "python",
   "name": "python3"
  },
  "language_info": {
   "codemirror_mode": {
    "name": "ipython",
    "version": 3
   },
   "file_extension": ".py",
   "mimetype": "text/x-python",
   "name": "python",
   "nbconvert_exporter": "python",
   "pygments_lexer": "ipython3",
   "version": "3.9.2"
  }
 },
 "nbformat": 4,
 "nbformat_minor": 4
}
