{
 "cells": [
  {
   "cell_type": "code",
   "execution_count": 4,
   "metadata": {},
   "outputs": [
    {
     "name": "stdout",
     "output_type": "stream",
     "text": [
      "sys.version_info(major=3, minor=8, micro=3, releaselevel='final', serial=0)\n",
      "3.8.3 (default, May 19 2020, 18:47:26) \n",
      "[GCC 7.3.0]\n"
     ]
    }
   ],
   "source": [
    "#查看version\n",
    "import sys\n",
    "print(sys.version_info)\n",
    "print(sys.version)"
   ]
  },
  {
   "cell_type": "code",
   "execution_count": 16,
   "metadata": {},
   "outputs": [],
   "source": [
    "#python之禅\n",
    "import this"
   ]
  },
  {
   "cell_type": "code",
   "execution_count": null,
   "metadata": {},
   "outputs": [],
   "source": []
  },
  {
   "cell_type": "code",
   "execution_count": 15,
   "metadata": {},
   "outputs": [
    {
     "ename": "ImportError",
     "evalue": "libX11.so.6: cannot open shared object file: No such file or directory",
     "output_type": "error",
     "traceback": [
      "\u001b[0;31m---------------------------------------------------------------------------\u001b[0m",
      "\u001b[0;31mImportError\u001b[0m                               Traceback (most recent call last)",
      "\u001b[0;32m<ipython-input-15-5d479e183000>\u001b[0m in \u001b[0;36m<module>\u001b[0;34m\u001b[0m\n\u001b[0;32m----> 1\u001b[0;31m \u001b[0;32mimport\u001b[0m \u001b[0mturtle\u001b[0m\u001b[0;34m\u001b[0m\u001b[0;34m\u001b[0m\u001b[0m\n\u001b[0m\u001b[1;32m      2\u001b[0m \u001b[0;31m#turtle.pensize(4)\u001b[0m\u001b[0;34m\u001b[0m\u001b[0;34m\u001b[0m\u001b[0;34m\u001b[0m\u001b[0m\n",
      "\u001b[0;32m~/software/miniconda3/lib/python3.8/turtle.py\u001b[0m in \u001b[0;36m<module>\u001b[0;34m\u001b[0m\n\u001b[1;32m    105\u001b[0m \u001b[0;31m# print(_ver)\u001b[0m\u001b[0;34m\u001b[0m\u001b[0;34m\u001b[0m\u001b[0;34m\u001b[0m\u001b[0m\n\u001b[1;32m    106\u001b[0m \u001b[0;34m\u001b[0m\u001b[0m\n\u001b[0;32m--> 107\u001b[0;31m \u001b[0;32mimport\u001b[0m \u001b[0mtkinter\u001b[0m \u001b[0;32mas\u001b[0m \u001b[0mTK\u001b[0m\u001b[0;34m\u001b[0m\u001b[0;34m\u001b[0m\u001b[0m\n\u001b[0m\u001b[1;32m    108\u001b[0m \u001b[0;32mimport\u001b[0m \u001b[0mtypes\u001b[0m\u001b[0;34m\u001b[0m\u001b[0;34m\u001b[0m\u001b[0m\n\u001b[1;32m    109\u001b[0m \u001b[0;32mimport\u001b[0m \u001b[0mmath\u001b[0m\u001b[0;34m\u001b[0m\u001b[0;34m\u001b[0m\u001b[0m\n",
      "\u001b[0;32m~/software/miniconda3/lib/python3.8/tkinter/__init__.py\u001b[0m in \u001b[0;36m<module>\u001b[0;34m\u001b[0m\n\u001b[1;32m     34\u001b[0m \u001b[0;32mimport\u001b[0m \u001b[0msys\u001b[0m\u001b[0;34m\u001b[0m\u001b[0;34m\u001b[0m\u001b[0m\n\u001b[1;32m     35\u001b[0m \u001b[0;34m\u001b[0m\u001b[0m\n\u001b[0;32m---> 36\u001b[0;31m \u001b[0;32mimport\u001b[0m \u001b[0m_tkinter\u001b[0m \u001b[0;31m# If this fails your Python may not be configured for Tk\u001b[0m\u001b[0;34m\u001b[0m\u001b[0;34m\u001b[0m\u001b[0m\n\u001b[0m\u001b[1;32m     37\u001b[0m \u001b[0mTclError\u001b[0m \u001b[0;34m=\u001b[0m \u001b[0m_tkinter\u001b[0m\u001b[0;34m.\u001b[0m\u001b[0mTclError\u001b[0m\u001b[0;34m\u001b[0m\u001b[0;34m\u001b[0m\u001b[0m\n\u001b[1;32m     38\u001b[0m \u001b[0;32mfrom\u001b[0m \u001b[0mtkinter\u001b[0m\u001b[0;34m.\u001b[0m\u001b[0mconstants\u001b[0m \u001b[0;32mimport\u001b[0m \u001b[0;34m*\u001b[0m\u001b[0;34m\u001b[0m\u001b[0;34m\u001b[0m\u001b[0m\n",
      "\u001b[0;31mImportError\u001b[0m: libX11.so.6: cannot open shared object file: No such file or directory"
     ]
    }
   ],
   "source": []
  },
  {
   "cell_type": "code",
   "execution_count": 18,
   "metadata": {},
   "outputs": [
    {
     "name": "stdout",
     "output_type": "stream",
     "text": [
      "hello world\n"
     ]
    },
    {
     "data": {
      "text/plain": [
       "'\\n1.由数字、字母、下划线组成\\n2.不能数字开头\\n3.不能使用内置关键词\\nFalse None True and as assert break class\\ncontinue def del elif else except finally for\\nfrom global if import in is lambda nonlocal\\nnot or pass raise return try while with yield\\n4.严格区分大小写\\n命名习惯\\n1.见名知义\\n2.大驼峰：即每一个单词字母都大写，例如：MyName\\n3.小驼峰：第二个（含）以后的单词首字母大写，例如：myName\\n4.下划线：例如：my_name\\n'"
      ]
     },
     "execution_count": 18,
     "metadata": {},
     "output_type": "execute_result"
    }
   ],
   "source": [
    "# 单行注释\n",
    "print(\"hello world\")  # 简单注释内容\n",
    "\n",
    "# 多行注释\n",
    "\"\"\"\"\n",
    "第一行注释\n",
    "第二行注释\n",
    "第三行注释\n",
    "\"\"\"\n",
    "\n",
    "#标识符规则\n",
    "\"\"\"\n",
    "1.由数字、字母、下划线组成\n",
    "2.不能数字开头\n",
    "3.不能使用内置关键词\n",
    "False None True and as assert break class\n",
    "continue def del elif else except finally for\n",
    "from global if import in is lambda nonlocal\n",
    "not or pass raise return try while with yield\n",
    "4.严格区分大小写\n",
    "命名习惯\n",
    "1.见名知义\n",
    "2.大驼峰：即每一个单词字母都大写，例如：MyName\n",
    "3.小驼峰：第二个（含）以后的单词首字母大写，例如：myName\n",
    "4.下划线：例如：my_name\n",
    "\"\"\""
   ]
  },
  {
   "cell_type": "code",
   "execution_count": null,
   "metadata": {},
   "outputs": [],
   "source": [
    "#变量与类型\n",
    "a = 100 #整型\n",
    "b = 12.345 #浮点型\n",
    "c = 1 + 5j #复数型\n",
    "d = 'hello, world' #字符串型\n",
    "e = True #布尔型\n",
    "print(type(a))    # <class 'int'>\n",
    "print(type(b))    # <class 'float'>\n",
    "print(type(c))    # <class 'complex'>\n",
    "print(type(d))    # <class 'str'>\n",
    "print(type(e))    # <class 'bool'>"
   ]
  },
  {
   "cell_type": "code",
   "execution_count": null,
   "metadata": {},
   "outputs": [],
   "source": [
    "#变量转换\n",
    "\"\"\"\n",
    "函数                            说明\n",
    "int(x[,base])                  将x转换为一个整数\n",
    "float(x)                       将X转换为一个浮点数\n",
    "complex(real[,imag])           创建一个复数，real为实部，imag为虚部\n",
    "str(x)                         将对象X转换为字符串\n",
    "repr(x)                        将对象X转换为表达式字符串\n",
    "eval(str)                      用来计算在字符串中的有效python表达式，并返回一个对象\n",
    "tuple(s)                       将序列S转换为一个元组\n",
    "list(s)                        将序列S转换为一个列表\n",
    "chr(x)                         将一个整数转换为一个Unicode字符\n",
    "ord(d)                         将一个字符转换为它的ASCII整数值\n",
    "hex()                          将一个整数转换为一个十六进制字符串\n",
    "\"\"\""
   ]
  },
  {
   "cell_type": "code",
   "execution_count": null,
   "metadata": {},
   "outputs": [],
   "source": [
    "#格式化输出\n",
    "\"\"\"\n",
    "格式符号    转换\n",
    "%s         字符串\n",
    "%d         有符号的十进制整数\n",
    "%f         浮点数\n",
    "%c         字符\n",
    "%u         无符号的十进制整数\n",
    "%o         八进制整数\n",
    "%x         十六进制整数（小写ox）\n",
    "%X         十六进制整数（大写OX）\n",
    "%e         科学计数法（小写e）\n",
    "%E         科学计数法（大写E）\n",
    "%g         %f和%e的简写\n",
    "%G         %f和%E的简写\n",
    "%%         表示百分号，%代表了占位符\n",
    "\"\"\""
   ]
  },
  {
   "cell_type": "code",
   "execution_count": 1,
   "metadata": {},
   "outputs": [
    {
     "name": "stdout",
     "output_type": "stream",
     "text": [
      "<class 'int'>\n",
      "<class 'float'>\n",
      "<class 'complex'>\n",
      "<class 'str'>\n",
      "<class 'bool'>\n"
     ]
    }
   ],
   "source": [
    "#运算符\n",
    "\"\"\"\n",
    "1.算术运算符\n",
    "\n",
    "运算符     描述           实例\n",
    "+          加            1+1 输出结果为2\n",
    "-          减            1-1 输出结果为0\n",
    "*          乘            2*2 输出结果为4\n",
    "/          除            10/2 输出结果为5\n",
    "//         整除           9//4 输出结果为2\n",
    "%          取余/模        9%4 输出结果为1\n",
    "**         指数          2**4 输出结果为16\n",
    "()         小括号        小括号用来提高运算优先级，即（1+2）*3输出结果为9\n",
    "\n",
    "2.赋值运算符\n",
    "\n",
    "单个变量赋值\n",
    "num = 1\n",
    "print(num)\n",
    "\n",
    "多个变量赋值\n",
    "num1, float,str1 = 10,0.5,'hello world'\n",
    "\n",
    "多个变量赋相同值\n",
    "a=b=10\n",
    "print(a)\n",
    "print(b)\n",
    "\n",
    "3.复合赋值运算符\n",
    "\n",
    "运算符     描述                实例\n",
    "+=        加法赋值运算符       c+=a 等价于 c=c+a\n",
    "-=        减法赋值运算符       c-=a 等价于 c=c-a\n",
    "*=        乘法赋值运算符       c*=a 等价于 c=c*a\n",
    "/=        除法赋值运算符       c/=a 等价于 c=c/a\n",
    "//=       整除赋值运算符       c//=a 等价于 c=c//a\n",
    "%=        取余赋值运算符       c%=a 等价于 c=c%a\n",
    "**=       幂赋值运算符         c**=a 等价于 c=c**a\n",
    "\n",
    "4.比较运算符\n",
    "\n",
    "运算符     描述                实例\n",
    "==        判断相等             如a=3，b=3，则（a==b）为True\n",
    "!=        不等于               如a=1，b=3，则（a!=b）为True\n",
    ">         大于                 如a=7，b=3，则（a>b）为True  如a=7，b=3，则（a<b）为False\n",
    "<         小于                 如a=7，b=3，则（a<b）为True 如a=7，b=3，则（a>b）为False\n",
    ">=        大于等于             如a=3，b=3，则（a>=b）为True\n",
    "<=        小于等于             如a=3，b=3，则（a<=b）为True\n",
    "\n",
    "5.逻辑运算符\n",
    "\n",
    "运算符  逻辑表达式    描述   \n",
    "and     x and y     布尔\"与\"：如果x为False，x and y 返回Flase,否则它返回y的值。\n",
    "or      x or y      布尔\"或\"：如果x为True，它返回True,否则它返回y的值。\n",
    "not     not x       布尔\"非\"：如果x为True，返回False。如果x为Flase,它返回True。\n",
    "&       x & y       按位与\n",
    "^       ^ x         按位异或\n",
    "|       x | y       按位或\n",
    "\n",
    "#习惯用法\n",
    "a = 1\n",
    "b = 2\n",
    "c = 3\n",
    "print((a < b) and (b < c))    #True\n",
    "print((a > b) and (b < c))    #False\n",
    "print((a > b) or (b < c))     #True\n",
    "print(not (a > b))            #True\n",
    "\n",
    "#数字之间的逻辑运算\n",
    "# and 运算符，只要有一个值为0，则结果为0，否则结果为最后一个非0数字\n",
    "# or 运算符，只有所有值为0结果才为0，否则结果为第一个非0数字\n",
    "\n",
    "6.成员运算符\n",
    "\n",
    "in \n",
    "not in\n",
    "\n",
    "7.身份运算符\n",
    "\n",
    "is\n",
    "is not\n",
    "\n",
    "\"\"\""
   ]
  },
  {
   "cell_type": "code",
   "execution_count": 11,
   "metadata": {},
   "outputs": [
    {
     "name": "stdout",
     "output_type": "stream",
     "text": [
      "1 * 1 = 1\t\n",
      "2 * 1 = 2\t2 * 2 = 4\t\n",
      "3 * 1 = 3\t3 * 2 = 6\t3 * 3 = 9\t\n",
      "4 * 1 = 4\t4 * 2 = 8\t4 * 3 = 12\t4 * 4 = 16\t\n",
      "5 * 1 = 5\t5 * 2 = 10\t5 * 3 = 15\t5 * 4 = 20\t5 * 5 = 25\t\n",
      "6 * 1 = 6\t6 * 2 = 12\t6 * 3 = 18\t6 * 4 = 24\t6 * 5 = 30\t6 * 6 = 36\t\n",
      "7 * 1 = 7\t7 * 2 = 14\t7 * 3 = 21\t7 * 4 = 28\t7 * 5 = 35\t7 * 6 = 42\t7 * 7 = 49\t\n",
      "8 * 1 = 8\t8 * 2 = 16\t8 * 3 = 24\t8 * 4 = 32\t8 * 5 = 40\t8 * 6 = 48\t8 * 7 = 56\t8 * 8 = 64\t\n",
      "9 * 1 = 9\t9 * 2 = 18\t9 * 3 = 27\t9 * 4 = 36\t9 * 5 = 45\t9 * 6 = 54\t9 * 7 = 63\t9 * 8 = 72\t9 * 9 = 81\t\n"
     ]
    }
   ],
   "source": [
    "#乘法口诀表\n",
    "for i in range(1,10):\n",
    "    for j in range(1,i+1):\n",
    "        print(f'{i} * {j} = {i*j}',end='\\t')\n",
    "    print()"
   ]
  },
  {
   "cell_type": "code",
   "execution_count": 201,
   "metadata": {},
   "outputs": [
    {
     "name": "stdout",
     "output_type": "stream",
     "text": [
      "3\n",
      "2\n"
     ]
    }
   ],
   "source": [
    "#摇骰子\n",
    "from random import randint\n",
    "\n",
    "def roll_dice(n=2):\n",
    "    i = n\n",
    "    while i > 0:\n",
    "        point = randint(1, 6)\n",
    "        i -= 1\n",
    "        print(point)\n",
    "if __name__ == '__main__':\n",
    "    roll_dice()"
   ]
  },
  {
   "cell_type": "code",
   "execution_count": 264,
   "metadata": {},
   "outputs": [
    {
     "name": "stdout",
     "output_type": "stream",
     "text": [
      "hello hello hello \n",
      "hello world absdeg123\n",
      "False\n",
      "True\n",
      "o d2\n",
      "321gedsba dlrow\n",
      "'abc\n",
      "def'\n",
      "\\'abc\\ndef\\'\n",
      "----------------------\n",
      "1. 13\n",
      "2.  Hello, world!\n",
      "3.  Hello, World!\n",
      "4.  HELLO, WORLD!\n",
      "5.  hello, world!\n",
      "7.  False\n",
      "8.  True\n",
      "9.  False\n",
      "10.  False\n",
      "11.  False\n",
      "12.  False\n",
      "13.  ******************hello, world!*******************\n",
      "14.                                       hello, world!\n",
      "15.  hello, world!                                     \n",
      "16.  hello, world!\n",
      "17.  hello, world!\n",
      "18.  0\n",
      "19.  hello  world!\n",
      "20.  ['hello', ' world!']\n",
      "21.  1hello, world!2hello, world!3\n",
      "22.  -1\n",
      "24.  -1\n"
     ]
    },
    {
     "ename": "ValueError",
     "evalue": "substring not found",
     "output_type": "error",
     "traceback": [
      "\u001b[0;31m---------------------------------------------------------------------------\u001b[0m",
      "\u001b[0;31mValueError\u001b[0m                                Traceback (most recent call last)",
      "\u001b[0;32m<ipython-input-264-5d6a653bc3c2>\u001b[0m in \u001b[0;36m<module>\u001b[0;34m\u001b[0m\n\u001b[1;32m     44\u001b[0m \u001b[0mprint\u001b[0m\u001b[0;34m(\u001b[0m\u001b[0;34m\"22. \"\u001b[0m\u001b[0;34m,\u001b[0m\u001b[0ms5\u001b[0m\u001b[0;34m.\u001b[0m\u001b[0mrfind\u001b[0m\u001b[0;34m(\u001b[0m\u001b[0;34m'dl'\u001b[0m\u001b[0;34m)\u001b[0m\u001b[0;34m)\u001b[0m \u001b[0;31m#从右侧开始查找\u001b[0m\u001b[0;34m\u001b[0m\u001b[0;34m\u001b[0m\u001b[0m\n\u001b[1;32m     45\u001b[0m \u001b[0mprint\u001b[0m\u001b[0;34m(\u001b[0m\u001b[0;34m\"24. \"\u001b[0m\u001b[0;34m,\u001b[0m\u001b[0ms5\u001b[0m\u001b[0;34m.\u001b[0m\u001b[0mfind\u001b[0m\u001b[0;34m(\u001b[0m\u001b[0;34m'ctrl'\u001b[0m\u001b[0;34m)\u001b[0m\u001b[0;34m)\u001b[0m\u001b[0;34m\u001b[0m\u001b[0;34m\u001b[0m\u001b[0m\n\u001b[0;32m---> 46\u001b[0;31m \u001b[0mprint\u001b[0m\u001b[0;34m(\u001b[0m\u001b[0;34m\"25. \"\u001b[0m\u001b[0;34m,\u001b[0m\u001b[0ms5\u001b[0m\u001b[0;34m.\u001b[0m\u001b[0mindex\u001b[0m\u001b[0;34m(\u001b[0m\u001b[0;34m'ctrl'\u001b[0m\u001b[0;34m)\u001b[0m\u001b[0;34m)\u001b[0m \u001b[0;31m#与find相同，没有会报错\u001b[0m\u001b[0;34m\u001b[0m\u001b[0;34m\u001b[0m\u001b[0m\n\u001b[0m",
      "\u001b[0;31mValueError\u001b[0m: substring not found"
     ]
    }
   ],
   "source": [
    "#字符串\n",
    "s1 = 'hello '\n",
    "s2 = 'world absdeg123'\n",
    "s3 = '\\'abc\\ndef\\'' #\\转移\n",
    "s4 = r'\\'abc\\ndef\\''\n",
    "\n",
    "print(s1*3) #算数运算\n",
    "print(s1 + s2)\n",
    "print('good' in s1) #成员运算\n",
    "print('llo' in s1)\n",
    "print(s2[1::4]) #切片运算\n",
    "print(s2[::-1])\n",
    "print(s3)\n",
    "print(s4)\n",
    "print('----------------------')\n",
    "\n",
    "#方法\n",
    "s5 = 'hello, world!'\n",
    "print(\"1.\",len(s5))  #通过内置函数len计算字符串的长度\n",
    "\n",
    "print(\"2. \",s5.capitalize()) #获获得字符串首字母大写的拷贝\n",
    "print(\"3. \",s5.title()) #获获得字符串每个单词首字母大写的拷贝\n",
    "print(\"4. \",s5.upper()) #获得字符串变大写后的拷贝\n",
    "print(\"5. \",s5.lower()) #获得字符串变小写后的拷贝\n",
    "\n",
    "print(\"7. \",s5.startswith('H'))#检查字符串是否以指定的字符串开头\n",
    "print(\"8. \",s5.endswith('!'))#检查字符串是否以指定的字符串结尾\n",
    "print(\"9. \",s5.isspace()) #如果字符串只包含空白，则返回Ture，否则返回False。\n",
    "print(\"10. \",s5.isdigit())  #检查字符串是否由数字构成\n",
    "print(\"11. \",s5.isalpha())  #检查字符串是否以字母构成\n",
    "print(\"12. \",s5.isalnum())  #检查字符串是否以数字和字母构成\n",
    "\n",
    "print(\"13. \",s5.center(50,'*')) #将字符串以指定的宽度居中并在两侧填充指定的字符\n",
    "print(\"14. \",s5.rjust(50,' ')) #将字符串以指定的宽度靠右放置左侧填充指定的字符\n",
    "print(\"15. \",s5.ljust(50,' ')) #将字符串以指定的宽度靠左放置右侧填充指定的字符\n",
    "\n",
    "print(\"16. \",s5.strip()) #获得字符串修剪左右两侧空格之后的拷贝\n",
    "print(\"17. \",s5.rstrip()) #获得字符串修剪右侧空格之后的拷贝\n",
    "print(\"18. \",s5.count('and')) #统计匹配数\n",
    "print(\"19. \",s5.replace(',',' ')) #替换\n",
    "print(\"20. \",s5.split(',')) #分割\n",
    "print(\"21. \",s5.join([\"1\",\"2\",\"3\"]))#用一个字符或子串合并字符串，既是将多个字符串合并为一个新的字符串\n",
    "\n",
    "print(\"22. \",s5.rfind('dl')) #从右侧开始查找\n",
    "print(\"24. \",s5.find('ctrl'))\n",
    "print(\"25. \",s5.index('ctrl')) #与find相同，没有会报错"
   ]
  },
  {
   "cell_type": "code",
   "execution_count": 282,
   "metadata": {},
   "outputs": [
    {
     "data": {
      "image/png": "[encoded data removed]",
      "text/plain": [
       "<Figure size 432x288 with 1 Axes>"
      ]
     },
     "metadata": {
      "needs_background": "light"
     },
     "output_type": "display_data"
    }
   ],
   "source": [
    "import matplotlib.pyplot as plt\n",
    "x = [ x for x in range(1,11)]\n",
    "y = [y**2 for y in range(1,11) ]\n",
    "plt.title('Square Numbers',fontsize=18)\n",
    "plt.xlabel('Value',fontsize=18)\n",
    "plt.ylabel('Square',fontsize=18)\n",
    "plt.tick_params(axis='both',labelsize=16)\n",
    "plt.plot(x,y,'xr')\n",
    "plt.axis([0,12,0,120])\n",
    "plt.show()"
   ]
  },
  {
   "cell_type": "code",
   "execution_count": 307,
   "metadata": {},
   "outputs": [
    {
     "data": {
      "image/png": "[encoded data removed]",
      "text/plain": [
       "<Figure size 432x288 with 3 Axes>"
      ]
     },
     "metadata": {
      "needs_background": "light"
     },
     "output_type": "display_data"
    }
   ],
   "source": [
    "import matplotlib.pyplot as plot\n",
    "import numpy as np\n",
    "x = np.linspace(0,2*np.pi,1000)\n",
    "y = np.sin(x)\n",
    "y1 = np.sin(2*x)\n",
    "plt.subplot(3,1,1)\n",
    "plt.plot(x,y,'-b')\n",
    "plt.plot(x,y1,'--r')\n",
    "plt.subplot(3,1,2)\n",
    "plt.plot(x,y,'r')\n",
    "plt.subplot(3,1,3)\n",
    "plt.plot(x,y1,'y')\n",
    "plt.show()"
   ]
  },
  {
   "cell_type": "code",
   "execution_count": 318,
   "metadata": {},
   "outputs": [
    {
     "data": {
      "image/png": "[encoded data removed]",
      "text/plain": [
       "<Figure size 432x288 with 1 Axes>"
      ]
     },
     "metadata": {
      "needs_background": "light"
     },
     "output_type": "display_data"
    }
   ],
   "source": [
    "import matplotlib.pyplot as plt\n",
    "import numpy as np\n",
    "data = np.random.normal(10.0,5.0,1000)\n",
    "plt.hist(data,100)\n",
    "plt.show()"
   ]
  },
  {
   "cell_type": "code",
   "execution_count": 322,
   "metadata": {},
   "outputs": [
    {
     "name": "stdout",
     "output_type": "stream",
     "text": [
      "Collecting pygal\n",
      "  Downloading pygal-2.4.0-py2.py3-none-any.whl (127 kB)\n",
      "\u001b[K     |██▋                             | 10 kB 2.6 kB/s eta 0:00:45\u001b[31mERROR: Exception:\n",
      "Traceback (most recent call last):\n",
      "  File \"/home/guisen/software/miniconda3/lib/python3.8/site-packages/pip/_vendor/urllib3/contrib/pyopenssl.py\", line 313, in recv_into\n",
      "    return self.connection.recv_into(*args, **kwargs)\n",
      "  File \"/home/guisen/software/miniconda3/lib/python3.8/site-packages/OpenSSL/SSL.py\", line 1840, in recv_into\n",
      "    self._raise_ssl_error(self._ssl, result)\n",
      "  File \"/home/guisen/software/miniconda3/lib/python3.8/site-packages/OpenSSL/SSL.py\", line 1646, in _raise_ssl_error\n",
      "    raise WantReadError()\n",
      "OpenSSL.SSL.WantReadError\n",
      "\n",
      "During handling of the above exception, another exception occurred:\n",
      "\n",
      "Traceback (most recent call last):\n",
      "  File \"/home/guisen/software/miniconda3/lib/python3.8/site-packages/pip/_vendor/urllib3/response.py\", line 425, in _error_catcher\n",
      "    yield\n",
      "  File \"/home/guisen/software/miniconda3/lib/python3.8/site-packages/pip/_vendor/urllib3/response.py\", line 507, in read\n",
      "    data = self._fp.read(amt) if not fp_closed else b\"\"\n",
      "  File \"/home/guisen/software/miniconda3/lib/python3.8/site-packages/pip/_vendor/cachecontrol/filewrapper.py\", line 62, in read\n",
      "    data = self.__fp.read(amt)\n",
      "  File \"/home/guisen/software/miniconda3/lib/python3.8/http/client.py\", line 454, in read\n",
      "    n = self.readinto(b)\n",
      "  File \"/home/guisen/software/miniconda3/lib/python3.8/http/client.py\", line 498, in readinto\n",
      "    n = self.fp.readinto(b)\n",
      "  File \"/home/guisen/software/miniconda3/lib/python3.8/socket.py\", line 669, in readinto\n",
      "    return self._sock.recv_into(b)\n",
      "  File \"/home/guisen/software/miniconda3/lib/python3.8/site-packages/pip/_vendor/urllib3/contrib/pyopenssl.py\", line 326, in recv_into\n",
      "    raise timeout(\"The read operation timed out\")\n",
      "socket.timeout: The read operation timed out\n",
      "\n",
      "During handling of the above exception, another exception occurred:\n",
      "\n",
      "Traceback (most recent call last):\n",
      "  File \"/home/guisen/software/miniconda3/lib/python3.8/site-packages/pip/_internal/cli/base_command.py\", line 186, in _main\n",
      "    status = self.run(options, args)\n",
      "  File \"/home/guisen/software/miniconda3/lib/python3.8/site-packages/pip/_internal/commands/install.py\", line 331, in run\n",
      "    resolver.resolve(requirement_set)\n",
      "  File \"/home/guisen/software/miniconda3/lib/python3.8/site-packages/pip/_internal/legacy_resolve.py\", line 177, in resolve\n",
      "    discovered_reqs.extend(self._resolve_one(requirement_set, req))\n",
      "  File \"/home/guisen/software/miniconda3/lib/python3.8/site-packages/pip/_internal/legacy_resolve.py\", line 333, in _resolve_one\n",
      "    abstract_dist = self._get_abstract_dist_for(req_to_install)\n",
      "  File \"/home/guisen/software/miniconda3/lib/python3.8/site-packages/pip/_internal/legacy_resolve.py\", line 282, in _get_abstract_dist_for\n",
      "    abstract_dist = self.preparer.prepare_linked_requirement(req)\n",
      "  File \"/home/guisen/software/miniconda3/lib/python3.8/site-packages/pip/_internal/operations/prepare.py\", line 480, in prepare_linked_requirement\n",
      "    local_path = unpack_url(\n",
      "  File \"/home/guisen/software/miniconda3/lib/python3.8/site-packages/pip/_internal/operations/prepare.py\", line 282, in unpack_url\n",
      "    return unpack_http_url(\n",
      "  File \"/home/guisen/software/miniconda3/lib/python3.8/site-packages/pip/_internal/operations/prepare.py\", line 158, in unpack_http_url\n",
      "    from_path, content_type = _download_http_url(\n",
      "  File \"/home/guisen/software/miniconda3/lib/python3.8/site-packages/pip/_internal/operations/prepare.py\", line 303, in _download_http_url\n",
      "    for chunk in download.chunks:\n",
      "  File \"/home/guisen/software/miniconda3/lib/python3.8/site-packages/pip/_internal/utils/ui.py\", line 160, in iter\n",
      "    for x in it:\n",
      "  File \"/home/guisen/software/miniconda3/lib/python3.8/site-packages/pip/_internal/network/utils.py\", line 15, in response_chunks\n",
      "    for chunk in response.raw.stream(\n",
      "  File \"/home/guisen/software/miniconda3/lib/python3.8/site-packages/pip/_vendor/urllib3/response.py\", line 564, in stream\n",
      "    data = self.read(amt=amt, decode_content=decode_content)\n",
      "  File \"/home/guisen/software/miniconda3/lib/python3.8/site-packages/pip/_vendor/urllib3/response.py\", line 529, in read\n",
      "    raise IncompleteRead(self._fp_bytes_read, self.length_remaining)\n",
      "  File \"/home/guisen/software/miniconda3/lib/python3.8/contextlib.py\", line 131, in __exit__\n",
      "    self.gen.throw(type, value, traceback)\n",
      "  File \"/home/guisen/software/miniconda3/lib/python3.8/site-packages/pip/_vendor/urllib3/response.py\", line 430, in _error_catcher\n",
      "    raise ReadTimeoutError(self._pool, None, \"Read timed out.\")\n",
      "pip._vendor.urllib3.exceptions.ReadTimeoutError: HTTPSConnectionPool(host='files.pythonhosted.org', port=443): Read timed out.\u001b[0m\n",
      "Note: you may need to restart the kernel to use updated packages.\n"
     ]
    }
   ],
   "source": []
  },
  {
   "cell_type": "code",
   "execution_count": null,
   "metadata": {},
   "outputs": [],
   "source": []
  }
 ],
 "metadata": {
  "kernelspec": {
   "display_name": "Python 3",
   "language": "python",
   "name": "python3"
  },
  "language_info": {
   "codemirror_mode": {
    "name": "ipython",
    "version": 3
   },
   "file_extension": ".py",
   "mimetype": "text/x-python",
   "name": "python",
   "nbconvert_exporter": "python",
   "pygments_lexer": "ipython3",
   "version": "3.8.3"
  }
 },
 "nbformat": 4,
 "nbformat_minor": 4
}
