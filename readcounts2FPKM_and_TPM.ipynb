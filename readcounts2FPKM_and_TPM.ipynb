{
 "cells": [
  {
   "cell_type": "code",
   "execution_count": 13,
   "id": "f80117bf",
   "metadata": {},
   "outputs": [
    {
     "name": "stderr",
     "output_type": "stream",
     "text": [
      "usage: python3 readcounts2FPKM_and_TPM.py -r [readcounts] -g [file.gff3]\n",
      "ipykernel_launcher.py: error: the following arguments are required: -r/--readcounts, -g/--gff\n"
     ]
    },
    {
     "ename": "SystemExit",
     "evalue": "2",
     "output_type": "error",
     "traceback": [
      "An exception has occurred, use %tb to see the full traceback.\n",
      "\u001b[0;31mSystemExit\u001b[0m\u001b[0;31m:\u001b[0m 2\n"
     ]
    }
   ],
   "source": [
    "\"\"\"\n",
    "2021/07/06\n",
    "author:guisen chen\n",
    "email:thecgs001@foxmail.com\n",
    "\"\"\"\n",
    "import re\n",
    "import argparse\n",
    "import pandas as pd\n",
    "from collections import defaultdict\n",
    "\n",
    "parser = argparse.ArgumentParser(description='将readcounts标准化为FPKM or TPM',usage='python3 readcounts2FPKM_and_TPM.py -r [readcounts] -g [file.gff3]',add_help=False,epilog='date:2021/07/06 author:guisen chen email:thecgs001@foxmail.com')\n",
    "required = parser.add_argument_group('required arguments')\n",
    "optional = parser.add_argument_group('optional arguments')\n",
    "required.add_argument('-r','--readcounts',metavar='[readcounts file]',help='readcounts file',required=True)\n",
    "required.add_argument('-g','--gff',metavar='[file.gff3]',help='gff3 file',required=True)\n",
    "optional.add_argument('-h','--help',action='help',help='show this help message and exit')\n",
    "optional.add_argument('-v','--version',action='version',version='v1.00')\n",
    "args = parser.parse_args()\n",
    "\n",
    "exon_length_dict = defaultdict(list)\n",
    "with open(args.gff,'r') as f:\n",
    "    for line in f:\n",
    "        if line.startswith('#') or line == \"\\n\": #remove '#' and '\\n'\n",
    "            continue\n",
    "        line = line.rstrip().split(\"\\t\")\n",
    "        if line[2] == \"exon\":\n",
    "            mrna_id = re.search(\"Parent=(.*?);\",line[8]+\";\").group(1)\n",
    "            per_gene_per_exon_length = int(line[4]) - int(line[3]) + 1\n",
    "            exon_length_dict[mrna_id].append(per_gene_per_exon_length)\n",
    "\n",
    "exon_length = defaultdict(list)\n",
    "for gene_id,exon_length_list in exon_length_dict.items():\n",
    "    count = sum(exon_length_list)\n",
    "    exon_length[gene_id].append(count)\n",
    "    \n",
    "exon_length = pd.DataFrame(exon_length).T.sort_index()\n",
    "exon_length = exon_length.rename(columns={0:'gene_len'})\n",
    "\n",
    "read_counts = pd.read_csv(args.readcounts,sep='\\t', index_col=\"gene_id\").sort_index()\n",
    "\n",
    "FPKM_matrix = pd.DataFrame()\n",
    "for sample_name in read_counts:\n",
    "    FPKM = read_counts[sample_name]*1000*1000000/(read_counts[sample_name].sum()*exon_length['gene_len'])\n",
    "    FPKM_matrix[sample_name] = FPKM\n",
    "#print(FPKM_matrix)\n",
    "\n",
    "TPM_matrix = pd.DataFrame()\n",
    "for sample_name in read_counts:\n",
    "    RPK=read_counts[sample_name]*1000/exon_length['gene_len']\n",
    "    TPM = RPK*1000000/RPK.sum()\n",
    "    TPM_matrix[sample_name] = TPM\n",
    "#print(TPM_matrix)\n",
    "\n",
    "#exon_length.to_csv('exon_length.xls',sep='\\t')\n",
    "FPKM_matrix.to_csv('FPKM.xls',sep='\\t')\n",
    "TPM_matrix.to_csv('TPM.xls',sep='\\t')\n",
    "print('finished')"
   ]
  }
 ],
 "metadata": {
  "kernelspec": {
   "display_name": "Python 3",
   "language": "python",
   "name": "python3"
  },
  "language_info": {
   "codemirror_mode": {
    "name": "ipython",
    "version": 3
   },
   "file_extension": ".py",
   "mimetype": "text/x-python",
   "name": "python",
   "nbconvert_exporter": "python",
   "pygments_lexer": "ipython3",
   "version": "3.9.4"
  }
 },
 "nbformat": 4,
 "nbformat_minor": 5
}
